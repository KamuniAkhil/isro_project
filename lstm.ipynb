{
 "cells": [
  {
   "cell_type": "code",
   "execution_count": 1,
   "metadata": {},
   "outputs": [],
   "source": [
    "import pytorch_lightning as ptl\n",
    "from pytorch_lightning.callbacks import ModelCheckpoint, LearningRateMonitor, EarlyStopping\n",
    "from pytorch_lightning.loggers import TensorBoardLogger\n",
    "import polars as pl\n",
    "import torch\n",
    "import torch.nn as nn\n",
    "import torch.nn.functional as F\n",
    "from typing import Optional\n",
    "from typing import Tuple\n",
    "import torch.optim as optim\n",
    "from model.peephole_lstm import PeepholeLSTM\n",
    "from model.data_loader import load_data, prepare_data_loaders"
   ]
  },
  {
   "cell_type": "code",
   "execution_count": 2,
   "metadata": {},
   "outputs": [],
   "source": [
    "data: pl.DataFrame = load_data(\"/home/pupperemeritus/isro_project/data/October2023.parquet\")"
   ]
  },
  {
   "cell_type": "code",
   "execution_count": 4,
   "metadata": {},
   "outputs": [
    {
     "data": {
      "text/plain": [
       "(2861526, 67)"
      ]
     },
     "execution_count": 4,
     "metadata": {},
     "output_type": "execute_result"
    }
   ],
   "source": [
    "data.shape"
   ]
  },
  {
   "cell_type": "code",
   "execution_count": 3,
   "metadata": {},
   "outputs": [
    {
     "data": {
      "text/html": [
       "<div><style>\n",
       ".dataframe > thead > tr,\n",
       ".dataframe > tbody > tr {\n",
       "  text-align: right;\n",
       "  white-space: pre-wrap;\n",
       "}\n",
       "</style>\n",
       "<small>shape: (20, 67)</small><table border=\"1\" class=\"dataframe\"><thead><tr><th>GPS_WN</th><th>GPS_TOW</th><th>SVID</th><th>Value of the RxState field of the ReceiverStatus SBF block</th><th>Azimuth</th><th>Elevation</th><th>Average Sig1 C/N0 over the last minute (dB-Hz)</th><th>S4</th><th>Correction to total S4 on Sig1 (thermal noise component only) (dimensionless)</th><th>Phi01 on Sig1, 1-second phase sigma (radians)</th><th>Phi03 on Sig1, 3-second phase sigma (radians)</th><th>Phi10 on Sig1, 10-second phase sigma (radians)</th><th>Phi30 on Sig1, 30-second phase sigma (radians)</th><th>Phi60 on Sig1, 60-second phase sigma (radians)</th><th>AvgCCD on Sig1, average of code/carrier divergence (meters)</th><th>SigmaCCD on Sig1, standard deviation of code/carrier divergence (meters)</th><th>TEC at TOW - 45 seconds (TECU)</th><th> dTEC from TOW - 60s to TOW - 45s (TECU)</th><th>TEC at TOW - 30 seconds (TECU)</th><th>dTEC from TOW - 45s to TOW - 30s (TECU)</th><th>TEC at TOW - 15 seconds (TECU)</th><th>dTEC from TOW - 30s to TOW - 15s (TECU)</th><th>TEC at TOW (TECU)</th><th>dTEC from TOW - 15s to TOW (TECU)</th><th>Sig1 lock time (seconds)</th><th>sbf2ismr version number</th><th>Lock time on the second frequency used for the TEC computation (seconds)</th><th>Averaged C/N0 of second frequency used for the TEC computation (dB-Hz)</th><th>SI Index on Sig1: (10*log10(Pmax)-10*log10(Pmin))/(10*log10(Pmax)+10*log10(Pmin)) (dimensionless)</th><th>SI Index on Sig1, numerator only: 10*log10(Pmax)-10*log10(Pmin) (dB)</th><th>p on Sig1, spectral slope of detrended phase in the 0.1 to 25Hz range (dimensionless)</th><th>Average Sig2 C/N0 over the last minute (dB-Hz)</th><th>Total S4 on Sig2 (dimensionless)</th><th>Correction to total S4 on Sig2 (thermal noise component only) (dimensionless)</th><th>Phi01 on Sig2, 1-second phase sigma (radians)</th><th> Phi03 on Sig2, 3-second phase sigma (radians)</th><th>Phi10 on Sig2, 10-second phase sigma (radians)</th><th>Phi30 on Sig2, 30-second phase sigma (radians)</th><th>Phi60 on Sig2, 60-second phase sigma (radians)</th><th>AvgCCD on Sig2, average of code/carrier divergence (meters)</th><th>SigmaCCD on Sig2, standard deviation of code/carrier divergence (meters)</th><th>Sig2 lock time (seconds)</th><th>SI Index on Sig2 (dimensionless)</th><th>SI Index on Sig2, numerator only (dB)</th><th>p on Sig2, phase spectral slope in the 0.1 to 25Hz range (dimensionless)</th><th>Average Sig3 C/N0 over the last minute (dB-Hz)</th><th>Total S4 on Sig3 (dimensionless)</th><th>Correction to total S4 on Sig3 (thermal noise component only) (dimensionless)</th><th>Phi01 on Sig3, 1-second phase sigma (radians)</th><th>Phi03 on Sig3, 3-second phase sigma (radians)</th><th>Phi10 on Sig3, 10-second phase sigma (radians)</th><th>Phi30 on Sig3, 30-second phase sigma (radians)</th><th>Phi60 on Sig3, 60-second phase sigma (radians)</th><th>AvgCCD on Sig3, average of code/carrier divergence (meters)</th><th>SigmaCCD on Sig3, standard deviation of code/carrier divergence (meters)</th><th>Sig3 lock time (seconds)</th><th>SI Index on Sig3 (dimensionless)</th><th>SI Index on Sig3, numerator only (dB)</th><th>p on Sig3, phase spectral slope in the 0.1 to 25Hz range (dimensionless)</th><th>T on Sig1, phase power spectral density at 1 Hz (rad^2/Hz)</th><th>T on Sig2, phase power spectral density at 1 Hz (rad^2/Hz)</th><th>Vertical Scintillation Amplitude</th><th>Vertical Scintillation Phase</th><th>T on Sig3, phase power spectral density at 1 Hz (rad^2/Hz)</th><th>Latitude</th><th>Longitude</th><th>IST_Time</th></tr><tr><td>i64</td><td>i64</td><td>i64</td><td>i64</td><td>i64</td><td>i64</td><td>f64</td><td>f64</td><td>f64</td><td>f64</td><td>f64</td><td>f64</td><td>f64</td><td>f64</td><td>f64</td><td>f64</td><td>f64</td><td>f64</td><td>f64</td><td>f64</td><td>f64</td><td>f64</td><td>f64</td><td>f64</td><td>i64</td><td>i64</td><td>i64</td><td>f64</td><td>f64</td><td>f64</td><td>f64</td><td>f64</td><td>f64</td><td>f64</td><td>f64</td><td>f64</td><td>f64</td><td>f64</td><td>f64</td><td>f64</td><td>f64</td><td>i64</td><td>f64</td><td>f64</td><td>f64</td><td>f64</td><td>f64</td><td>f64</td><td>f64</td><td>f64</td><td>f64</td><td>f64</td><td>f64</td><td>f64</td><td>f64</td><td>i64</td><td>f64</td><td>f64</td><td>f64</td><td>f64</td><td>f64</td><td>f64</td><td>f64</td><td>f64</td><td>f64</td><td>f64</td><td>datetime[μs]</td></tr></thead><tbody><tr><td>2282</td><td>60</td><td>5</td><td>630</td><td>17</td><td>67</td><td>49.4</td><td>0.027</td><td>0.034</td><td>0.017</td><td>0.031</td><td>0.04</td><td>0.04</td><td>0.041</td><td>-14.596</td><td>0.004</td><td>12.61</td><td>0.01</td><td>12.572</td><td>0.007</td><td>12.591</td><td>0.008</td><td>12.572</td><td>0.016</td><td>13911</td><td>781</td><td>7834</td><td>57.4</td><td>0.007</td><td>0.782</td><td>1.8</td><td>48.7</td><td>0.035</td><td>0.037</td><td>0.017</td><td>0.03</td><td>0.039</td><td>0.039</td><td>0.04</td><td>-25.402</td><td>0.007</td><td>7834</td><td>0.01</td><td>0.93</td><td>1.66</td><td>null</td><td>null</td><td>null</td><td>null</td><td>null</td><td>null</td><td>null</td><td>null</td><td>null</td><td>null</td><td>null</td><td>null</td><td>null</td><td>null</td><td>0.000027</td><td>0.00003</td><td>0.020354</td><td>0.03827</td><td>null</td><td>18.777651</td><td>78.758218</td><td>2023-10-01 05:31:00</td></tr><tr><td>2282</td><td>60</td><td>11</td><td>630</td><td>47</td><td>20</td><td>36.2</td><td>0.124</td><td>0.156</td><td>0.039</td><td>0.041</td><td>0.043</td><td>0.043</td><td>0.043</td><td>-30.136</td><td>0.018</td><td>19.332</td><td>0.089</td><td>19.37</td><td>0.118</td><td>19.77</td><td>0.109</td><td>19.989</td><td>0.078</td><td>22104</td><td>781</td><td>22100</td><td>22.1</td><td>0.039</td><td>3.334</td><td>1.31</td><td>39.5</td><td>0.109</td><td>0.106</td><td>0.036</td><td>0.042</td><td>0.054</td><td>0.056</td><td>0.058</td><td>-48.513</td><td>0.05</td><td>256</td><td>0.038</td><td>2.975</td><td>1.51</td><td>42.2</td><td>0.079</td><td>0.077</td><td>0.027</td><td>0.037</td><td>0.056</td><td>0.06</td><td>0.069</td><td>-53.368</td><td>0.066</td><td>22143</td><td>0.026</td><td>2.3</td><td>1.45</td><td>0.000137</td><td>0.000148</td><td>0.109271</td><td>0.041292</td><td>0.000081</td><td>22.710547</td><td>84.609833</td><td>2023-10-01 05:31:00</td></tr><tr><td>2282</td><td>60</td><td>12</td><td>630</td><td>195</td><td>53</td><td>48.9</td><td>0.031</td><td>0.036</td><td>0.015</td><td>0.02</td><td>0.022</td><td>0.023</td><td>0.023</td><td>-5.513</td><td>0.011</td><td>14.542</td><td>0.023</td><td>14.637</td><td>0.02</td><td>14.656</td><td>0.029</td><td>14.732</td><td>0.024</td><td>15353</td><td>781</td><td>7834</td><td>54.9</td><td>0.008</td><td>0.91</td><td>1.83</td><td>46.5</td><td>0.047</td><td>0.047</td><td>0.017</td><td>0.023</td><td>0.028</td><td>0.029</td><td>0.029</td><td>-9.81</td><td>0.018</td><td>7834</td><td>0.014</td><td>1.32</td><td>1.76</td><td>null</td><td>null</td><td>null</td><td>null</td><td>null</td><td>null</td><td>null</td><td>null</td><td>null</td><td>null</td><td>null</td><td>null</td><td>null</td><td>null</td><td>0.00003</td><td>0.000046</td><td>0.007094</td><td>0.016135</td><td>null</td><td>14.927063</td><td>77.62753</td><td>2023-10-01 05:31:00</td></tr><tr><td>2282</td><td>60</td><td>13</td><td>630</td><td>124</td><td>28</td><td>41.3</td><td>0.086</td><td>0.086</td><td>0.035</td><td>0.054</td><td>0.081</td><td>0.087</td><td>0.098</td><td>-10.845</td><td>0.002</td><td>24.417</td><td>-0.006</td><td>24.551</td><td>0.004</td><td>24.646</td><td>0.023</td><td>24.779</td><td>-0.004</td><td>12400</td><td>781</td><td>6250</td><td>27.9</td><td>0.026</td><td>2.475</td><td>1.77</td><td>null</td><td>null</td><td>null</td><td>null</td><td>null</td><td>null</td><td>null</td><td>null</td><td>null</td><td>null</td><td>null</td><td>null</td><td>null</td><td>null</td><td>null</td><td>null</td><td>null</td><td>null</td><td>null</td><td>null</td><td>null</td><td>null</td><td>null</td><td>null</td><td>null</td><td>null</td><td>null</td><td>null</td><td>0.000182</td><td>null</td><td>0.014132</td><td>0.062675</td><td>null</td><td>14.027978</td><td>83.352908</td><td>2023-10-01 05:31:00</td></tr><tr><td>2282</td><td>60</td><td>15</td><td>630</td><td>169</td><td>32</td><td>43.7</td><td>0.075</td><td>0.065</td><td>0.027</td><td>0.034</td><td>0.044</td><td>0.046</td><td>0.047</td><td>-7.634</td><td>0.011</td><td>20.718</td><td>-0.017</td><td>20.603</td><td>-0.043</td><td>20.527</td><td>-0.026</td><td>20.622</td><td>-0.023</td><td>6128</td><td>781</td><td>6102</td><td>45.5</td><td>0.021</td><td>2.063</td><td>1.53</td><td>41.9</td><td>0.083</td><td>0.08</td><td>0.028</td><td>0.033</td><td>0.039</td><td>0.04</td><td>0.04</td><td>-12.534</td><td>0.019</td><td>6121</td><td>0.027</td><td>2.312</td><td>1.61</td><td>null</td><td>null</td><td>null</td><td>null</td><td>null</td><td>null</td><td>null</td><td>null</td><td>null</td><td>null</td><td>null</td><td>null</td><td>null</td><td>null</td><td>0.000086</td><td>0.000102</td><td>0.031299</td><td>0.03677</td><td>null</td><td>12.342354</td><td>79.312619</td><td>2023-10-01 05:31:00</td></tr><tr><td>&hellip;</td><td>&hellip;</td><td>&hellip;</td><td>&hellip;</td><td>&hellip;</td><td>&hellip;</td><td>&hellip;</td><td>&hellip;</td><td>&hellip;</td><td>&hellip;</td><td>&hellip;</td><td>&hellip;</td><td>&hellip;</td><td>&hellip;</td><td>&hellip;</td><td>&hellip;</td><td>&hellip;</td><td>&hellip;</td><td>&hellip;</td><td>&hellip;</td><td>&hellip;</td><td>&hellip;</td><td>&hellip;</td><td>&hellip;</td><td>&hellip;</td><td>&hellip;</td><td>&hellip;</td><td>&hellip;</td><td>&hellip;</td><td>&hellip;</td><td>&hellip;</td><td>&hellip;</td><td>&hellip;</td><td>&hellip;</td><td>&hellip;</td><td>&hellip;</td><td>&hellip;</td><td>&hellip;</td><td>&hellip;</td><td>&hellip;</td><td>&hellip;</td><td>&hellip;</td><td>&hellip;</td><td>&hellip;</td><td>&hellip;</td><td>&hellip;</td><td>&hellip;</td><td>&hellip;</td><td>&hellip;</td><td>&hellip;</td><td>&hellip;</td><td>&hellip;</td><td>&hellip;</td><td>&hellip;</td><td>&hellip;</td><td>&hellip;</td><td>&hellip;</td><td>&hellip;</td><td>&hellip;</td><td>&hellip;</td><td>&hellip;</td><td>&hellip;</td><td>&hellip;</td><td>&hellip;</td><td>&hellip;</td><td>&hellip;</td><td>&hellip;</td></tr><tr><td>2282</td><td>60</td><td>47</td><td>630</td><td>230</td><td>30</td><td>44.2</td><td>0.064</td><td>0.062</td><td>0.025</td><td>0.035</td><td>0.055</td><td>0.056</td><td>0.056</td><td>-4.503</td><td>0.014</td><td>null</td><td>null</td><td>null</td><td>null</td><td>null</td><td>null</td><td>null</td><td>null</td><td>11636</td><td>781</td><td>null</td><td>null</td><td>0.019</td><td>1.704</td><td>1.73</td><td>null</td><td>null</td><td>null</td><td>null</td><td>null</td><td>null</td><td>null</td><td>null</td><td>null</td><td>null</td><td>null</td><td>null</td><td>null</td><td>null</td><td>null</td><td>null</td><td>null</td><td>null</td><td>null</td><td>null</td><td>null</td><td>null</td><td>null</td><td>null</td><td>null</td><td>null</td><td>null</td><td>null</td><td>0.000085</td><td>null</td><td>0.062645</td><td>0.055698</td><td>null</td><td>13.806814</td><td>73.969906</td><td>2023-10-01 05:31:00</td></tr><tr><td>2282</td><td>60</td><td>48</td><td>630</td><td>291</td><td>24</td><td>47.7</td><td>0.059</td><td>0.041</td><td>0.031</td><td>0.047</td><td>0.067</td><td>0.071</td><td>0.078</td><td>-1.968</td><td>0.005</td><td>56.012</td><td>0.017</td><td>56.119</td><td>0.031</td><td>56.363</td><td>-0.012</td><td>56.334</td><td>0.016</td><td>4878</td><td>781</td><td>4875</td><td>46.2</td><td>0.016</td><td>1.564</td><td>2.14</td><td>46.2</td><td>0.087</td><td>0.049</td><td>0.024</td><td>0.033</td><td>0.043</td><td>0.044</td><td>0.045</td><td>-3.296</td><td>0.012</td><td>4875</td><td>0.024</td><td>2.211</td><td>1.85</td><td>null</td><td>null</td><td>null</td><td>null</td><td>null</td><td>null</td><td>null</td><td>null</td><td>null</td><td>null</td><td>null</td><td>null</td><td>null</td><td>null</td><td>0.000132</td><td>0.000085</td><td>0.047788</td><td>0.074635</td><td>null</td><td>19.718511</td><td>71.541273</td><td>2023-10-01 05:31:00</td></tr><tr><td>2282</td><td>60</td><td>57</td><td>630</td><td>30</td><td>28</td><td>38.0</td><td>0.124</td><td>0.126</td><td>0.047</td><td>0.061</td><td>0.085</td><td>0.087</td><td>0.09</td><td>-24.469</td><td>0.016</td><td>17.959</td><td>-0.057</td><td>17.91</td><td>0.019</td><td>18.36</td><td>0.023</td><td>18.213</td><td>0.063</td><td>16684</td><td>781</td><td>7834</td><td>38.8</td><td>0.045</td><td>3.387</td><td>1.7</td><td>38.8</td><td>0.122</td><td>0.115</td><td>0.042</td><td>0.048</td><td>0.063</td><td>0.063</td><td>0.064</td><td>-36.836</td><td>0.015</td><td>7834</td><td>0.041</td><td>3.2</td><td>1.61</td><td>null</td><td>null</td><td>null</td><td>null</td><td>null</td><td>null</td><td>null</td><td>null</td><td>null</td><td>null</td><td>null</td><td>null</td><td>null</td><td>null</td><td>0.000313</td><td>0.000221</td><td>0.021692</td><td>0.057559</td><td>null</td><td>22.476348</td><td>81.500818</td><td>2023-10-01 05:31:00</td></tr><tr><td>2282</td><td>60</td><td>58</td><td>630</td><td>327</td><td>19</td><td>44.6</td><td>0.113</td><td>0.059</td><td>0.038</td><td>0.082</td><td>0.114</td><td>0.116</td><td>0.118</td><td>-28.491</td><td>0.01</td><td>30.414</td><td>-0.032</td><td>30.16</td><td>-0.024</td><td>30.179</td><td>0.003</td><td>30.082</td><td>-0.037</td><td>9333</td><td>781</td><td>7834</td><td>43.3</td><td>0.031</td><td>2.72</td><td>1.78</td><td>43.3</td><td>0.136</td><td>0.069</td><td>0.035</td><td>0.073</td><td>0.098</td><td>0.1</td><td>0.103</td><td>-40.75</td><td>0.019</td><td>7834</td><td>0.035</td><td>3.044</td><td>1.68</td><td>null</td><td>null</td><td>null</td><td>null</td><td>null</td><td>null</td><td>null</td><td>null</td><td>null</td><td>null</td><td>null</td><td>null</td><td>null</td><td>null</td><td>0.000098</td><td>0.000099</td><td>0.013305</td><td>0.06967</td><td>null</td><td>24.267627</td><td>73.375128</td><td>2023-10-01 05:31:00</td></tr><tr><td>2282</td><td>60</td><td>72</td><td>630</td><td>172</td><td>29</td><td>42.2</td><td>0.083</td><td>0.078</td><td>0.027</td><td>0.029</td><td>0.032</td><td>0.032</td><td>0.033</td><td>-32.022</td><td>0.014</td><td>23.067</td><td>0.043</td><td>23.113</td><td>0.035</td><td>23.199</td><td>0.057</td><td>23.199</td><td>0.038</td><td>7834</td><td>781</td><td>33586</td><td>44.1</td><td>0.024</td><td>2.2</td><td>1.46</td><td>44.1</td><td>0.065</td><td>0.062</td><td>0.022</td><td>0.027</td><td>0.037</td><td>0.039</td><td>0.041</td><td>-58.623</td><td>0.028</td><td>33586</td><td>0.019</td><td>1.783</td><td>1.56</td><td>46.4</td><td>0.047</td><td>0.048</td><td>0.016</td><td>0.018</td><td>0.019</td><td>0.019</td><td>0.019</td><td>-55.765</td><td>0.027</td><td>7834</td><td>0.014</td><td>1.345</td><td>1.49</td><td>0.00008</td><td>0.000061</td><td>0.045661</td><td>0.027709</td><td>0.00003</td><td>11.743823</td><td>79.11896</td><td>2023-10-01 05:31:00</td></tr></tbody></table></div>"
      ],
      "text/plain": [
       "shape: (20, 67)\n",
       "┌────────┬─────────┬──────┬──────────────┬───┬──────────────┬───────────┬───────────┬──────────────┐\n",
       "│ GPS_WN ┆ GPS_TOW ┆ SVID ┆ Value of the ┆ … ┆ T on Sig3,   ┆ Latitude  ┆ Longitude ┆ IST_Time     │\n",
       "│ ---    ┆ ---     ┆ ---  ┆ RxState      ┆   ┆ phase power  ┆ ---       ┆ ---       ┆ ---          │\n",
       "│ i64    ┆ i64     ┆ i64  ┆ field of …   ┆   ┆ spectra…     ┆ f64       ┆ f64       ┆ datetime[μs] │\n",
       "│        ┆         ┆      ┆ ---          ┆   ┆ ---          ┆           ┆           ┆              │\n",
       "│        ┆         ┆      ┆ i64          ┆   ┆ f64          ┆           ┆           ┆              │\n",
       "╞════════╪═════════╪══════╪══════════════╪═══╪══════════════╪═══════════╪═══════════╪══════════════╡\n",
       "│ 2282   ┆ 60      ┆ 5    ┆ 630          ┆ … ┆ null         ┆ 18.777651 ┆ 78.758218 ┆ 2023-10-01   │\n",
       "│        ┆         ┆      ┆              ┆   ┆              ┆           ┆           ┆ 05:31:00     │\n",
       "│ 2282   ┆ 60      ┆ 11   ┆ 630          ┆ … ┆ 0.000081     ┆ 22.710547 ┆ 84.609833 ┆ 2023-10-01   │\n",
       "│        ┆         ┆      ┆              ┆   ┆              ┆           ┆           ┆ 05:31:00     │\n",
       "│ 2282   ┆ 60      ┆ 12   ┆ 630          ┆ … ┆ null         ┆ 14.927063 ┆ 77.62753  ┆ 2023-10-01   │\n",
       "│        ┆         ┆      ┆              ┆   ┆              ┆           ┆           ┆ 05:31:00     │\n",
       "│ 2282   ┆ 60      ┆ 13   ┆ 630          ┆ … ┆ null         ┆ 14.027978 ┆ 83.352908 ┆ 2023-10-01   │\n",
       "│        ┆         ┆      ┆              ┆   ┆              ┆           ┆           ┆ 05:31:00     │\n",
       "│ 2282   ┆ 60      ┆ 15   ┆ 630          ┆ … ┆ null         ┆ 12.342354 ┆ 79.312619 ┆ 2023-10-01   │\n",
       "│        ┆         ┆      ┆              ┆   ┆              ┆           ┆           ┆ 05:31:00     │\n",
       "│ …      ┆ …       ┆ …    ┆ …            ┆ … ┆ …            ┆ …         ┆ …         ┆ …            │\n",
       "│ 2282   ┆ 60      ┆ 47   ┆ 630          ┆ … ┆ null         ┆ 13.806814 ┆ 73.969906 ┆ 2023-10-01   │\n",
       "│        ┆         ┆      ┆              ┆   ┆              ┆           ┆           ┆ 05:31:00     │\n",
       "│ 2282   ┆ 60      ┆ 48   ┆ 630          ┆ … ┆ null         ┆ 19.718511 ┆ 71.541273 ┆ 2023-10-01   │\n",
       "│        ┆         ┆      ┆              ┆   ┆              ┆           ┆           ┆ 05:31:00     │\n",
       "│ 2282   ┆ 60      ┆ 57   ┆ 630          ┆ … ┆ null         ┆ 22.476348 ┆ 81.500818 ┆ 2023-10-01   │\n",
       "│        ┆         ┆      ┆              ┆   ┆              ┆           ┆           ┆ 05:31:00     │\n",
       "│ 2282   ┆ 60      ┆ 58   ┆ 630          ┆ … ┆ null         ┆ 24.267627 ┆ 73.375128 ┆ 2023-10-01   │\n",
       "│        ┆         ┆      ┆              ┆   ┆              ┆           ┆           ┆ 05:31:00     │\n",
       "│ 2282   ┆ 60      ┆ 72   ┆ 630          ┆ … ┆ 0.00003      ┆ 11.743823 ┆ 79.11896  ┆ 2023-10-01   │\n",
       "│        ┆         ┆      ┆              ┆   ┆              ┆           ┆           ┆ 05:31:00     │\n",
       "└────────┴─────────┴──────┴──────────────┴───┴──────────────┴───────────┴───────────┴──────────────┘"
      ]
     },
     "execution_count": 3,
     "metadata": {},
     "output_type": "execute_result"
    }
   ],
   "source": [
    "data.head(20)"
   ]
  },
  {
   "cell_type": "code",
   "execution_count": 6,
   "metadata": {},
   "outputs": [
    {
     "data": {
      "text/html": [
       "<div><style>\n",
       ".dataframe > thead > tr,\n",
       ".dataframe > tbody > tr {\n",
       "  text-align: right;\n",
       "  white-space: pre-wrap;\n",
       "}\n",
       "</style>\n",
       "<small>shape: (9, 68)</small><table border=\"1\" class=\"dataframe\"><thead><tr><th>statistic</th><th>GPS_WN</th><th>GPS_TOW</th><th>SVID</th><th>Value of the RxState field of the ReceiverStatus SBF block</th><th>Azimuth</th><th>Elevation</th><th>Average Sig1 C/N0 over the last minute (dB-Hz)</th><th>S4</th><th>Correction to total S4 on Sig1 (thermal noise component only) (dimensionless)</th><th>Phi01 on Sig1, 1-second phase sigma (radians)</th><th>Phi03 on Sig1, 3-second phase sigma (radians)</th><th>Phi10 on Sig1, 10-second phase sigma (radians)</th><th>Phi30 on Sig1, 30-second phase sigma (radians)</th><th>Phi60 on Sig1, 60-second phase sigma (radians)</th><th>AvgCCD on Sig1, average of code/carrier divergence (meters)</th><th>SigmaCCD on Sig1, standard deviation of code/carrier divergence (meters)</th><th>TEC at TOW - 45 seconds (TECU)</th><th> dTEC from TOW - 60s to TOW - 45s (TECU)</th><th>TEC at TOW - 30 seconds (TECU)</th><th>dTEC from TOW - 45s to TOW - 30s (TECU)</th><th>TEC at TOW - 15 seconds (TECU)</th><th>dTEC from TOW - 30s to TOW - 15s (TECU)</th><th>TEC at TOW (TECU)</th><th>dTEC from TOW - 15s to TOW (TECU)</th><th>Sig1 lock time (seconds)</th><th>sbf2ismr version number</th><th>Lock time on the second frequency used for the TEC computation (seconds)</th><th>Averaged C/N0 of second frequency used for the TEC computation (dB-Hz)</th><th>SI Index on Sig1: (10*log10(Pmax)-10*log10(Pmin))/(10*log10(Pmax)+10*log10(Pmin)) (dimensionless)</th><th>SI Index on Sig1, numerator only: 10*log10(Pmax)-10*log10(Pmin) (dB)</th><th>p on Sig1, spectral slope of detrended phase in the 0.1 to 25Hz range (dimensionless)</th><th>Average Sig2 C/N0 over the last minute (dB-Hz)</th><th>Total S4 on Sig2 (dimensionless)</th><th>Correction to total S4 on Sig2 (thermal noise component only) (dimensionless)</th><th>Phi01 on Sig2, 1-second phase sigma (radians)</th><th> Phi03 on Sig2, 3-second phase sigma (radians)</th><th>Phi10 on Sig2, 10-second phase sigma (radians)</th><th>Phi30 on Sig2, 30-second phase sigma (radians)</th><th>Phi60 on Sig2, 60-second phase sigma (radians)</th><th>AvgCCD on Sig2, average of code/carrier divergence (meters)</th><th>SigmaCCD on Sig2, standard deviation of code/carrier divergence (meters)</th><th>Sig2 lock time (seconds)</th><th>SI Index on Sig2 (dimensionless)</th><th>SI Index on Sig2, numerator only (dB)</th><th>p on Sig2, phase spectral slope in the 0.1 to 25Hz range (dimensionless)</th><th>Average Sig3 C/N0 over the last minute (dB-Hz)</th><th>Total S4 on Sig3 (dimensionless)</th><th>Correction to total S4 on Sig3 (thermal noise component only) (dimensionless)</th><th>Phi01 on Sig3, 1-second phase sigma (radians)</th><th>Phi03 on Sig3, 3-second phase sigma (radians)</th><th>Phi10 on Sig3, 10-second phase sigma (radians)</th><th>Phi30 on Sig3, 30-second phase sigma (radians)</th><th>Phi60 on Sig3, 60-second phase sigma (radians)</th><th>AvgCCD on Sig3, average of code/carrier divergence (meters)</th><th>SigmaCCD on Sig3, standard deviation of code/carrier divergence (meters)</th><th>Sig3 lock time (seconds)</th><th>SI Index on Sig3 (dimensionless)</th><th>SI Index on Sig3, numerator only (dB)</th><th>p on Sig3, phase spectral slope in the 0.1 to 25Hz range (dimensionless)</th><th>T on Sig1, phase power spectral density at 1 Hz (rad^2/Hz)</th><th>T on Sig2, phase power spectral density at 1 Hz (rad^2/Hz)</th><th>Vertical Scintillation Amplitude</th><th>Vertical Scintillation Phase</th><th>T on Sig3, phase power spectral density at 1 Hz (rad^2/Hz)</th><th>Latitude</th><th>Longitude</th><th>IST_Time</th></tr><tr><td>str</td><td>f64</td><td>f64</td><td>f64</td><td>f64</td><td>f64</td><td>f64</td><td>f64</td><td>f64</td><td>f64</td><td>f64</td><td>f64</td><td>f64</td><td>f64</td><td>f64</td><td>f64</td><td>f64</td><td>f64</td><td>f64</td><td>f64</td><td>f64</td><td>f64</td><td>f64</td><td>f64</td><td>f64</td><td>f64</td><td>f64</td><td>f64</td><td>f64</td><td>f64</td><td>f64</td><td>f64</td><td>f64</td><td>f64</td><td>f64</td><td>f64</td><td>f64</td><td>f64</td><td>f64</td><td>f64</td><td>f64</td><td>f64</td><td>f64</td><td>f64</td><td>f64</td><td>f64</td><td>f64</td><td>f64</td><td>f64</td><td>f64</td><td>f64</td><td>f64</td><td>f64</td><td>f64</td><td>f64</td><td>f64</td><td>f64</td><td>f64</td><td>f64</td><td>f64</td><td>f64</td><td>f64</td><td>f64</td><td>f64</td><td>f64</td><td>f64</td><td>f64</td><td>str</td></tr></thead><tbody><tr><td>&quot;count&quot;</td><td>2.861526e6</td><td>2.861526e6</td><td>2.861526e6</td><td>2.861526e6</td><td>2.861526e6</td><td>2.861526e6</td><td>2.861526e6</td><td>2.861526e6</td><td>2.861526e6</td><td>2.861193e6</td><td>2.86084e6</td><td>2.859392e6</td><td>2.85588e6</td><td>2.851929e6</td><td>2.861526e6</td><td>2.861526e6</td><td>2.04812e6</td><td>2.04812e6</td><td>2.047947e6</td><td>2.03574e6</td><td>2.047866e6</td><td>2.035561e6</td><td>2.064552e6</td><td>2.047866e6</td><td>2.856186e6</td><td>2.861526e6</td><td>2.100334e6</td><td>2.141623e6</td><td>2.861525e6</td><td>2.861525e6</td><td>2.848677e6</td><td>2.05852e6</td><td>2.057873e6</td><td>2.057873e6</td><td>2.057133e6</td><td>2.056179e6</td><td>2.05108e6</td><td>2.03582e6</td><td>2.019739e6</td><td>2.058519e6</td><td>2.058519e6</td><td>2.018553e6</td><td>2.058772e6</td><td>2.058772e6</td><td>1.99261e6</td><td>1.854944e6</td><td>1.854909e6</td><td>1.854909e6</td><td>1.854717e6</td><td>1.854553e6</td><td>1.854001e6</td><td>1.852861e6</td><td>1.851745e6</td><td>1.854943e6</td><td>1.854943e6</td><td>1.854101e6</td><td>1.854951e6</td><td>1.854951e6</td><td>1.850672e6</td><td>2.848677e6</td><td>1.99261e6</td><td>2.861526e6</td><td>2.861526e6</td><td>1.850672e6</td><td>2.861526e6</td><td>2.861526e6</td><td>&quot;2861526&quot;</td></tr><tr><td>&quot;null_count&quot;</td><td>0.0</td><td>0.0</td><td>0.0</td><td>0.0</td><td>0.0</td><td>0.0</td><td>0.0</td><td>0.0</td><td>0.0</td><td>333.0</td><td>686.0</td><td>2134.0</td><td>5646.0</td><td>9597.0</td><td>0.0</td><td>0.0</td><td>813406.0</td><td>813406.0</td><td>813579.0</td><td>825786.0</td><td>813660.0</td><td>825965.0</td><td>796974.0</td><td>813660.0</td><td>5340.0</td><td>0.0</td><td>761192.0</td><td>719903.0</td><td>1.0</td><td>1.0</td><td>12849.0</td><td>803006.0</td><td>803653.0</td><td>803653.0</td><td>804393.0</td><td>805347.0</td><td>810446.0</td><td>825706.0</td><td>841787.0</td><td>803007.0</td><td>803007.0</td><td>842973.0</td><td>802754.0</td><td>802754.0</td><td>868916.0</td><td>1.006582e6</td><td>1.006617e6</td><td>1.006617e6</td><td>1.006809e6</td><td>1.006973e6</td><td>1.007525e6</td><td>1.008665e6</td><td>1.009781e6</td><td>1.006583e6</td><td>1.006583e6</td><td>1.007425e6</td><td>1.006575e6</td><td>1.006575e6</td><td>1.010854e6</td><td>12849.0</td><td>868916.0</td><td>0.0</td><td>0.0</td><td>1.010854e6</td><td>0.0</td><td>0.0</td><td>&quot;0&quot;</td></tr><tr><td>&quot;mean&quot;</td><td>2283.74349</td><td>285852.412119</td><td>115.527053</td><td>630.0</td><td>156.216331</td><td>35.561843</td><td>42.27588</td><td>0.126852</td><td>0.098654</td><td>0.04335</td><td>0.059783</td><td>0.073823</td><td>0.075742</td><td>0.07651</td><td>-4.692243</td><td>0.863711</td><td>49.573304</td><td>-0.000101</td><td>49.591379</td><td>0.001139</td><td>49.638422</td><td>0.002616</td><td>48.233404</td><td>-0.001537</td><td>18365.144978</td><td>781.0</td><td>11856.566998</td><td>41.623682</td><td>0.044002</td><td>3.627524</td><td>1.632307</td><td>42.892343</td><td>0.121018</td><td>0.0871</td><td>0.03971</td><td>0.057793</td><td>0.073562</td><td>0.074555</td><td>0.074335</td><td>-5.1725</td><td>0.095441</td><td>12271.251307</td><td>0.041567</td><td>3.321089</td><td>1.646262</td><td>45.238549</td><td>0.094613</td><td>0.065089</td><td>0.028103</td><td>0.037149</td><td>0.044331</td><td>0.045203</td><td>0.045497</td><td>-3.79563</td><td>0.072474</td><td>14497.969627</td><td>0.030759</td><td>2.623842</td><td>1.614762</td><td>0.000966</td><td>0.00026</td><td>NaN</td><td>NaN</td><td>0.000173</td><td>16.398506</td><td>79.486235</td><td>&quot;2023-10-16 17:48:35.382715&quot;</td></tr><tr><td>&quot;std&quot;</td><td>1.293138</td><td>175110.130981</td><td>65.998176</td><td>0.0</td><td>91.849103</td><td>20.825982</td><td>6.01593</td><td>0.114198</td><td>0.075153</td><td>0.036163</td><td>0.065074</td><td>0.104788</td><td>0.129484</td><td>0.154903</td><td>28.169717</td><td>8.195888</td><td>184.222366</td><td>4.071804</td><td>184.129496</td><td>4.800821</td><td>184.104346</td><td>4.026672</td><td>184.924359</td><td>4.683901</td><td>19999.680397</td><td>0.0</td><td>17563.796537</td><td>8.099016</td><td>0.052642</td><td>3.548834</td><td>0.226544</td><td>5.34181</td><td>0.124721</td><td>0.057836</td><td>0.035357</td><td>0.068162</td><td>0.098707</td><td>0.101601</td><td>0.102725</td><td>37.11309</td><td>0.199761</td><td>17853.309359</td><td>0.055942</td><td>3.7644</td><td>0.220986</td><td>5.075013</td><td>0.115144</td><td>0.04097</td><td>0.030481</td><td>0.057669</td><td>0.079861</td><td>0.083302</td><td>0.084809</td><td>40.516601</td><td>0.12701</td><td>18905.652884</td><td>0.050432</td><td>3.696286</td><td>0.216915</td><td>0.068307</td><td>0.001292</td><td>NaN</td><td>NaN</td><td>0.001194</td><td>5.093402</td><td>5.607641</td><td>null</td></tr><tr><td>&quot;min&quot;</td><td>2282.0</td><td>0.0</td><td>2.0</td><td>630.0</td><td>0.0</td><td>0.0</td><td>22.3</td><td>0.015</td><td>0.017</td><td>0.008</td><td>0.01</td><td>0.012</td><td>0.012</td><td>0.012</td><td>-285.273</td><td>0.0</td><td>-1169.424</td><td>-1076.654</td><td>-1168.849</td><td>-1038.882</td><td>-1169.866</td><td>-1055.651</td><td>-1169.719</td><td>-999.304</td><td>0.0</td><td>781.0</td><td>0.0</td><td>1.3</td><td>0.003</td><td>0.35</td><td>0.0</td><td>22.5</td><td>0.017</td><td>0.018</td><td>0.007</td><td>0.009</td><td>0.01</td><td>0.01</td><td>0.01</td><td>-261.431</td><td>0.0</td><td>0.0</td><td>-0.039</td><td>-2.67</td><td>1.11</td><td>22.5</td><td>0.016</td><td>0.015</td><td>0.005</td><td>0.005</td><td>0.007</td><td>0.009</td><td>0.009</td><td>-174.708</td><td>0.0</td><td>0.0</td><td>-0.024</td><td>-1.5</td><td>1.07</td><td>0.000008</td><td>0.000006</td><td>0.000834</td><td>0.007157</td><td>0.000003</td><td>-2.558444</td><td>57.362963</td><td>&quot;2023-10-01 05:31:00&quot;</td></tr><tr><td>&quot;25%&quot;</td><td>2283.0</td><td>133920.0</td><td>53.0</td><td>630.0</td><td>93.0</td><td>18.0</td><td>37.5</td><td>0.051</td><td>0.044</td><td>0.022</td><td>0.027</td><td>0.031</td><td>0.031</td><td>0.031</td><td>-17.611</td><td>0.015</td><td>25.24375</td><td>-0.074</td><td>25.251</td><td>-0.074</td><td>25.27</td><td>-0.073</td><td>24.478</td><td>-0.074</td><td>3310.0</td><td>781.0</td><td>733.0</td><td>37.8</td><td>0.014</td><td>1.421</td><td>1.47</td><td>38.7</td><td>0.05</td><td>0.044</td><td>0.021</td><td>0.026</td><td>0.029</td><td>0.029</td><td>0.029</td><td>-23.6435</td><td>0.024</td><td>760.0</td><td>0.014</td><td>1.358</td><td>1.49</td><td>41.4</td><td>0.037</td><td>0.034</td><td>0.015</td><td>0.019</td><td>0.021</td><td>0.021</td><td>0.021</td><td>-26.653</td><td>0.02</td><td>1586.0</td><td>0.01</td><td>1.025</td><td>1.47</td><td>0.000055</td><td>0.000049</td><td>0.020752</td><td>0.025202</td><td>0.000029</td><td>15.108257</td><td>76.729702</td><td>&quot;2023-10-08 23:59:00&quot;</td></tr><tr><td>&quot;50%&quot;</td><td>2284.0</td><td>270240.0</td><td>132.0</td><td>630.0</td><td>142.0</td><td>32.0</td><td>42.9</td><td>0.088</td><td>0.072</td><td>0.033</td><td>0.044</td><td>0.05</td><td>0.051</td><td>0.051</td><td>-2.704</td><td>0.032</td><td>73.206</td><td>0.0</td><td>73.209</td><td>0.0</td><td>73.223</td><td>0.0</td><td>72.536</td><td>0.0</td><td>10911.0</td><td>781.0</td><td>4223.0</td><td>42.8</td><td>0.026</td><td>2.435</td><td>1.6</td><td>43.3</td><td>0.086</td><td>0.068</td><td>0.029</td><td>0.038</td><td>0.043</td><td>0.043</td><td>0.043</td><td>-0.628</td><td>0.051</td><td>4448.0</td><td>0.027</td><td>2.377</td><td>1.6</td><td>45.5</td><td>0.059</td><td>0.053</td><td>0.022</td><td>0.026</td><td>0.029</td><td>0.029</td><td>0.029</td><td>-2.351</td><td>0.042</td><td>6502.0</td><td>0.017</td><td>1.622</td><td>1.58</td><td>0.000119</td><td>0.000092</td><td>0.04543</td><td>0.04209</td><td>0.000057</td><td>16.132205</td><td>79.520606</td><td>&quot;2023-10-16 18:15:00&quot;</td></tr><tr><td>&quot;75%&quot;</td><td>2285.0</td><td>437220.0</td><td>165.0</td><td>630.0</td><td>227.0</td><td>52.0</td><td>47.2</td><td>0.169</td><td>0.134</td><td>0.057</td><td>0.072</td><td>0.083</td><td>0.084</td><td>0.085</td><td>9.019</td><td>0.065</td><td>128.82025</td><td>0.081</td><td>128.821</td><td>0.081</td><td>128.836</td><td>0.08</td><td>128.351</td><td>0.081</td><td>24811.0</td><td>781.0</td><td>14240.0</td><td>47.1</td><td>0.057</td><td>4.719</td><td>1.76</td><td>47.1</td><td>0.153</td><td>0.117</td><td>0.048</td><td>0.062</td><td>0.076</td><td>0.077</td><td>0.076</td><td>9.467</td><td>0.108</td><td>15043.0</td><td>0.049</td><td>4.01</td><td>1.76</td><td>49.3</td><td>0.106</td><td>0.085</td><td>0.031</td><td>0.037</td><td>0.041</td><td>0.042</td><td>0.042</td><td>18.934</td><td>0.083</td><td>18530.0</td><td>0.033</td><td>2.86</td><td>1.7</td><td>0.000303</td><td>0.000237</td><td>0.090354</td><td>0.070875</td><td>0.000111</td><td>19.57806</td><td>82.836522</td><td>&quot;2023-10-24 11:30:00&quot;</td></tr><tr><td>&quot;max&quot;</td><td>2286.0</td><td>604740.0</td><td>242.0</td><td>630.0</td><td>359.0</td><td>90.0</td><td>55.5</td><td>8.366</td><td>0.827</td><td>10.115</td><td>25.711</td><td>56.268</td><td>71.637</td><td>89.736</td><td>118.831</td><td>155.151</td><td>519.132</td><td>902.937</td><td>463.384</td><td>1357.556</td><td>513.899</td><td>1144.207</td><td>454.718</td><td>1320.804</td><td>65534.0</td><td>781.0</td><td>65534.0</td><td>62.1</td><td>1.0</td><td>49.295</td><td>3.75</td><td>54.8</td><td>17.488</td><td>0.766</td><td>1.743</td><td>4.72</td><td>7.782</td><td>8.522</td><td>11.234</td><td>183.999</td><td>128.308</td><td>65534.0</td><td>1.0</td><td>53.661</td><td>3.8</td><td>56.2</td><td>9.896</td><td>0.679</td><td>1.105</td><td>2.627</td><td>4.565</td><td>5.422</td><td>7.398</td><td>174.925</td><td>8.677</td><td>65534.0</td><td>1.0</td><td>54.486</td><td>3.81</td><td>9.92952</td><td>0.252415</td><td>7.762037</td><td>70.20322</td><td>0.161901</td><td>35.170931</td><td>98.994946</td><td>&quot;2023-11-01 05:30:00&quot;</td></tr></tbody></table></div>"
      ],
      "text/plain": [
       "shape: (9, 68)\n",
       "┌───────────┬───────────┬───────────┬───────────┬───┬───────────┬───────────┬───────────┬──────────┐\n",
       "│ statistic ┆ GPS_WN    ┆ GPS_TOW   ┆ SVID      ┆ … ┆ T on      ┆ Latitude  ┆ Longitude ┆ IST_Time │\n",
       "│ ---       ┆ ---       ┆ ---       ┆ ---       ┆   ┆ Sig3,     ┆ ---       ┆ ---       ┆ ---      │\n",
       "│ str       ┆ f64       ┆ f64       ┆ f64       ┆   ┆ phase     ┆ f64       ┆ f64       ┆ str      │\n",
       "│           ┆           ┆           ┆           ┆   ┆ power     ┆           ┆           ┆          │\n",
       "│           ┆           ┆           ┆           ┆   ┆ spectra…  ┆           ┆           ┆          │\n",
       "│           ┆           ┆           ┆           ┆   ┆ ---       ┆           ┆           ┆          │\n",
       "│           ┆           ┆           ┆           ┆   ┆ f64       ┆           ┆           ┆          │\n",
       "╞═══════════╪═══════════╪═══════════╪═══════════╪═══╪═══════════╪═══════════╪═══════════╪══════════╡\n",
       "│ count     ┆ 2.861526e ┆ 2.861526e ┆ 2.861526e ┆ … ┆ 1.850672e ┆ 2.861526e ┆ 2.861526e ┆ 2861526  │\n",
       "│           ┆ 6         ┆ 6         ┆ 6         ┆   ┆ 6         ┆ 6         ┆ 6         ┆          │\n",
       "│ null_coun ┆ 0.0       ┆ 0.0       ┆ 0.0       ┆ … ┆ 1.010854e ┆ 0.0       ┆ 0.0       ┆ 0        │\n",
       "│ t         ┆           ┆           ┆           ┆   ┆ 6         ┆           ┆           ┆          │\n",
       "│ mean      ┆ 2283.7434 ┆ 285852.41 ┆ 115.52705 ┆ … ┆ 0.000173  ┆ 16.398506 ┆ 79.486235 ┆ 2023-10- │\n",
       "│           ┆ 9         ┆ 2119      ┆ 3         ┆   ┆           ┆           ┆           ┆ 16 17:48 │\n",
       "│           ┆           ┆           ┆           ┆   ┆           ┆           ┆           ┆ :35.3827 │\n",
       "│           ┆           ┆           ┆           ┆   ┆           ┆           ┆           ┆ 15       │\n",
       "│ std       ┆ 1.293138  ┆ 175110.13 ┆ 65.998176 ┆ … ┆ 0.001194  ┆ 5.093402  ┆ 5.607641  ┆ null     │\n",
       "│           ┆           ┆ 0981      ┆           ┆   ┆           ┆           ┆           ┆          │\n",
       "│ min       ┆ 2282.0    ┆ 0.0       ┆ 2.0       ┆ … ┆ 0.000003  ┆ -2.558444 ┆ 57.362963 ┆ 2023-10- │\n",
       "│           ┆           ┆           ┆           ┆   ┆           ┆           ┆           ┆ 01       │\n",
       "│           ┆           ┆           ┆           ┆   ┆           ┆           ┆           ┆ 05:31:00 │\n",
       "│ 25%       ┆ 2283.0    ┆ 133920.0  ┆ 53.0      ┆ … ┆ 0.000029  ┆ 15.108257 ┆ 76.729702 ┆ 2023-10- │\n",
       "│           ┆           ┆           ┆           ┆   ┆           ┆           ┆           ┆ 08       │\n",
       "│           ┆           ┆           ┆           ┆   ┆           ┆           ┆           ┆ 23:59:00 │\n",
       "│ 50%       ┆ 2284.0    ┆ 270240.0  ┆ 132.0     ┆ … ┆ 0.000057  ┆ 16.132205 ┆ 79.520606 ┆ 2023-10- │\n",
       "│           ┆           ┆           ┆           ┆   ┆           ┆           ┆           ┆ 16       │\n",
       "│           ┆           ┆           ┆           ┆   ┆           ┆           ┆           ┆ 18:15:00 │\n",
       "│ 75%       ┆ 2285.0    ┆ 437220.0  ┆ 165.0     ┆ … ┆ 0.000111  ┆ 19.57806  ┆ 82.836522 ┆ 2023-10- │\n",
       "│           ┆           ┆           ┆           ┆   ┆           ┆           ┆           ┆ 24       │\n",
       "│           ┆           ┆           ┆           ┆   ┆           ┆           ┆           ┆ 11:30:00 │\n",
       "│ max       ┆ 2286.0    ┆ 604740.0  ┆ 242.0     ┆ … ┆ 0.161901  ┆ 35.170931 ┆ 98.994946 ┆ 2023-11- │\n",
       "│           ┆           ┆           ┆           ┆   ┆           ┆           ┆           ┆ 01       │\n",
       "│           ┆           ┆           ┆           ┆   ┆           ┆           ┆           ┆ 05:30:00 │\n",
       "└───────────┴───────────┴───────────┴───────────┴───┴───────────┴───────────┴───────────┴──────────┘"
      ]
     },
     "execution_count": 6,
     "metadata": {},
     "output_type": "execute_result"
    }
   ],
   "source": [
    "data.describe(interpolation=\"linear\")"
   ]
  },
  {
   "cell_type": "code",
   "execution_count": 5,
   "metadata": {},
   "outputs": [],
   "source": [
    "class UnidirectionalLSTM(ptl.LightningModule):\n",
    "    def __init__(\n",
    "        self,\n",
    "        input_size: int,\n",
    "        hidden_size: int,\n",
    "        num_layers: int,\n",
    "        learning_rate: float = 0.001,\n",
    "        dropout: float = 0.2,\n",
    "    ):\n",
    "        super().__init__()\n",
    "        self.lstm = nn.LSTM(\n",
    "            input_size=input_size,\n",
    "            hidden_size=hidden_size,\n",
    "            num_layers=num_layers,\n",
    "            batch_first=True,\n",
    "            bidirectional=False,\n",
    "            dropout=dropout,\n",
    "        )\n",
    "        self.fc = nn.Linear(hidden_size, 1)\n",
    "        self.learning_rate = learning_rate\n",
    "\n",
    "    def forward(\n",
    "        self, x: torch.Tensor, mask: Optional[torch.Tensor] = None\n",
    "    ) -> torch.Tensor:\n",
    "        # Replace NaNs with zeros and create a mask\n",
    "        if mask is None:\n",
    "            mask = ~torch.isnan(x)\n",
    "        x = torch.nan_to_num(x, nan=0.0)\n",
    "\n",
    "        # Pack the sequence to handle variable-length inputs\n",
    "        lengths = mask.sum(dim=1).cpu()\n",
    "        packed_x = nn.utils.rnn.pack_padded_sequence(\n",
    "            x, lengths, batch_first=True, enforce_sorted=False\n",
    "        )\n",
    "\n",
    "        # Process with LSTM\n",
    "        packed_lstm_out, _ = self.lstm(packed_x)\n",
    "\n",
    "        # Unpack the sequence\n",
    "        lstm_out, _ = nn.utils.rnn.pad_packed_sequence(\n",
    "            packed_lstm_out, batch_first=True\n",
    "        )\n",
    "\n",
    "        # Get the last valid output for each sequence\n",
    "        idx = (lengths - 1).view(-1, 1).expand(-1, lstm_out.size(2))\n",
    "        last_valid = lstm_out.gather(1, idx.unsqueeze(1)).squeeze(1)\n",
    "\n",
    "        out = self.fc(last_valid)\n",
    "        return out\n",
    "\n",
    "    def _step(\n",
    "        self, batch: Tuple[torch.Tensor, torch.Tensor, torch.Tensor]\n",
    "    ) -> torch.Tensor:\n",
    "        x, y, mask = batch\n",
    "        y_hat = self(x, mask)\n",
    "\n",
    "        # Use masked MSE loss\n",
    "        loss = nn.MSELoss(reduction=\"none\")(y_hat, y)\n",
    "        mask = mask[:, -1].unsqueeze(1)  # Use mask for the last time step\n",
    "        loss = (loss * mask).sum() / mask.sum()\n",
    "\n",
    "        return loss\n",
    "\n",
    "    def training_step(\n",
    "        self, batch: Tuple[torch.Tensor, torch.Tensor, torch.Tensor], batch_idx: int\n",
    "    ) -> torch.Tensor:\n",
    "        loss = self._step(batch)\n",
    "        self.log(\"train_loss\", loss, on_step=True, on_epoch=True, prog_bar=True)\n",
    "        return loss\n",
    "\n",
    "    def validation_step(\n",
    "        self, batch: Tuple[torch.Tensor, torch.Tensor, torch.Tensor], batch_idx: int\n",
    "    ) -> None:\n",
    "        loss = self._step(batch)\n",
    "        self.log(\"val_loss\", loss, on_step=False, on_epoch=True, prog_bar=True)\n",
    "\n",
    "    def test_step(\n",
    "        self, batch: Tuple[torch.Tensor, torch.Tensor, torch.Tensor], batch_idx: int\n",
    "    ) -> None:\n",
    "        loss = self._step(batch)\n",
    "        loss = torch.log1p(loss)\n",
    "        self.log(\"test_loss\", loss, on_step=False, on_epoch=True, prog_bar=True)\n",
    "\n",
    "    def configure_optimizers(self):\n",
    "        optimizer = torch.optim.Adam(self.parameters(), lr=self.learning_rate)\n",
    "        scheduler = torch.optim.lr_scheduler.ReduceLROnPlateau(\n",
    "            optimizer, mode=\"min\", factor=0.1, patience=10\n",
    "        )\n",
    "        return {\n",
    "            \"optimizer\": optimizer,\n",
    "            \"lr_scheduler\": {\n",
    "                \"scheduler\": scheduler,\n",
    "                \"monitor\": \"val_loss\",\n",
    "            },\n",
    "        }"
   ]
  },
  {
   "cell_type": "code",
   "execution_count": 6,
   "metadata": {},
   "outputs": [],
   "source": [
    "batch_size = 128\n",
    "file_path = \"/home/pupperemeritus/isro_project/data/October2023.parquet\"\n",
    "train_loader, val_loader, test_loader, target_scaler = prepare_data_loaders(\n",
    "    file_path,\n",
    "    batch_size=batch_size,\n",
    "    sequence_length=60,\n",
    "    prediction_horizon=1,\n",
    "    missing_data=\"interpolate\",\n",
    "    max_gap=1,\n",
    "    test_size=0.22,\n",
    "    val_size=0.11,\n",
    "    stride=30,\n",
    ")"
   ]
  },
  {
   "cell_type": "code",
   "execution_count": 7,
   "metadata": {},
   "outputs": [
    {
     "name": "stderr",
     "output_type": "stream",
     "text": [
      "Using 16bit Automatic Mixed Precision (AMP)\n"
     ]
    },
    {
     "name": "stdout",
     "output_type": "stream",
     "text": [
      "62\n"
     ]
    },
    {
     "name": "stderr",
     "output_type": "stream",
     "text": [
      "GPU available: True (cuda), used: True\n",
      "TPU available: False, using: 0 TPU cores\n",
      "HPU available: False, using: 0 HPUs\n",
      "LOCAL_RANK: 0 - CUDA_VISIBLE_DEVICES: [0]\n",
      "\n",
      "  | Name | Type   | Params | Mode \n",
      "----------------------------------------\n",
      "0 | lstm | LSTM   | 265 K  | train\n",
      "1 | fc   | Linear | 65     | train\n",
      "----------------------------------------\n",
      "265 K     Trainable params\n",
      "0         Non-trainable params\n",
      "265 K     Total params\n",
      "1.063     Total estimated model params size (MB)\n"
     ]
    },
    {
     "name": "stdout",
     "output_type": "stream",
     "text": [
      "Sanity Checking DataLoader 0:   0%|          | 0/2 [00:00<?, ?it/s]"
     ]
    },
    {
     "ename": "RuntimeError",
     "evalue": "input.size(-1) must be equal to input_size. Expected 62, got 65",
     "output_type": "error",
     "traceback": [
      "\u001b[0;31m---------------------------------------------------------------------------\u001b[0m",
      "\u001b[0;31mRuntimeError\u001b[0m                              Traceback (most recent call last)",
      "Cell \u001b[0;32mIn[7], line 41\u001b[0m\n\u001b[1;32m     23\u001b[0m torch\u001b[38;5;241m.\u001b[39mset_float32_matmul_precision(\u001b[38;5;124m\"\u001b[39m\u001b[38;5;124mhigh\u001b[39m\u001b[38;5;124m\"\u001b[39m)\n\u001b[1;32m     24\u001b[0m trainer \u001b[38;5;241m=\u001b[39m ptl\u001b[38;5;241m.\u001b[39mTrainer(\n\u001b[1;32m     25\u001b[0m     max_epochs\u001b[38;5;241m=\u001b[39mepochs,\n\u001b[1;32m     26\u001b[0m     accelerator\u001b[38;5;241m=\u001b[39m\u001b[38;5;124m\"\u001b[39m\u001b[38;5;124mgpu\u001b[39m\u001b[38;5;124m\"\u001b[39m,\n\u001b[0;32m   (...)\u001b[0m\n\u001b[1;32m     39\u001b[0m     min_epochs\u001b[38;5;241m=\u001b[39m\u001b[38;5;241m50\u001b[39m,\n\u001b[1;32m     40\u001b[0m )\n\u001b[0;32m---> 41\u001b[0m \u001b[43mtrainer\u001b[49m\u001b[38;5;241;43m.\u001b[39;49m\u001b[43mfit\u001b[49m\u001b[43m(\u001b[49m\u001b[43mmodel\u001b[49m\u001b[43m,\u001b[49m\u001b[43m \u001b[49m\u001b[43mtrain_loader\u001b[49m\u001b[43m,\u001b[49m\u001b[43m \u001b[49m\u001b[43mval_loader\u001b[49m\u001b[43m)\u001b[49m\n\u001b[1;32m     43\u001b[0m \u001b[38;5;66;03m# Test the model\u001b[39;00m\n\u001b[1;32m     44\u001b[0m trainer\u001b[38;5;241m.\u001b[39mtest(model, test_loader)\n",
      "File \u001b[0;32m~/miniconda3/envs/isro-project/lib/python3.12/site-packages/pytorch_lightning/trainer/trainer.py:543\u001b[0m, in \u001b[0;36mTrainer.fit\u001b[0;34m(self, model, train_dataloaders, val_dataloaders, datamodule, ckpt_path)\u001b[0m\n\u001b[1;32m    541\u001b[0m \u001b[38;5;28mself\u001b[39m\u001b[38;5;241m.\u001b[39mstate\u001b[38;5;241m.\u001b[39mstatus \u001b[38;5;241m=\u001b[39m TrainerStatus\u001b[38;5;241m.\u001b[39mRUNNING\n\u001b[1;32m    542\u001b[0m \u001b[38;5;28mself\u001b[39m\u001b[38;5;241m.\u001b[39mtraining \u001b[38;5;241m=\u001b[39m \u001b[38;5;28;01mTrue\u001b[39;00m\n\u001b[0;32m--> 543\u001b[0m \u001b[43mcall\u001b[49m\u001b[38;5;241;43m.\u001b[39;49m\u001b[43m_call_and_handle_interrupt\u001b[49m\u001b[43m(\u001b[49m\n\u001b[1;32m    544\u001b[0m \u001b[43m    \u001b[49m\u001b[38;5;28;43mself\u001b[39;49m\u001b[43m,\u001b[49m\u001b[43m \u001b[49m\u001b[38;5;28;43mself\u001b[39;49m\u001b[38;5;241;43m.\u001b[39;49m\u001b[43m_fit_impl\u001b[49m\u001b[43m,\u001b[49m\u001b[43m \u001b[49m\u001b[43mmodel\u001b[49m\u001b[43m,\u001b[49m\u001b[43m \u001b[49m\u001b[43mtrain_dataloaders\u001b[49m\u001b[43m,\u001b[49m\u001b[43m \u001b[49m\u001b[43mval_dataloaders\u001b[49m\u001b[43m,\u001b[49m\u001b[43m \u001b[49m\u001b[43mdatamodule\u001b[49m\u001b[43m,\u001b[49m\u001b[43m \u001b[49m\u001b[43mckpt_path\u001b[49m\n\u001b[1;32m    545\u001b[0m \u001b[43m\u001b[49m\u001b[43m)\u001b[49m\n",
      "File \u001b[0;32m~/miniconda3/envs/isro-project/lib/python3.12/site-packages/pytorch_lightning/trainer/call.py:44\u001b[0m, in \u001b[0;36m_call_and_handle_interrupt\u001b[0;34m(trainer, trainer_fn, *args, **kwargs)\u001b[0m\n\u001b[1;32m     42\u001b[0m     \u001b[38;5;28;01mif\u001b[39;00m trainer\u001b[38;5;241m.\u001b[39mstrategy\u001b[38;5;241m.\u001b[39mlauncher \u001b[38;5;129;01mis\u001b[39;00m \u001b[38;5;129;01mnot\u001b[39;00m \u001b[38;5;28;01mNone\u001b[39;00m:\n\u001b[1;32m     43\u001b[0m         \u001b[38;5;28;01mreturn\u001b[39;00m trainer\u001b[38;5;241m.\u001b[39mstrategy\u001b[38;5;241m.\u001b[39mlauncher\u001b[38;5;241m.\u001b[39mlaunch(trainer_fn, \u001b[38;5;241m*\u001b[39margs, trainer\u001b[38;5;241m=\u001b[39mtrainer, \u001b[38;5;241m*\u001b[39m\u001b[38;5;241m*\u001b[39mkwargs)\n\u001b[0;32m---> 44\u001b[0m     \u001b[38;5;28;01mreturn\u001b[39;00m \u001b[43mtrainer_fn\u001b[49m\u001b[43m(\u001b[49m\u001b[38;5;241;43m*\u001b[39;49m\u001b[43margs\u001b[49m\u001b[43m,\u001b[49m\u001b[43m \u001b[49m\u001b[38;5;241;43m*\u001b[39;49m\u001b[38;5;241;43m*\u001b[39;49m\u001b[43mkwargs\u001b[49m\u001b[43m)\u001b[49m\n\u001b[1;32m     46\u001b[0m \u001b[38;5;28;01mexcept\u001b[39;00m _TunerExitException:\n\u001b[1;32m     47\u001b[0m     _call_teardown_hook(trainer)\n",
      "File \u001b[0;32m~/miniconda3/envs/isro-project/lib/python3.12/site-packages/pytorch_lightning/trainer/trainer.py:579\u001b[0m, in \u001b[0;36mTrainer._fit_impl\u001b[0;34m(self, model, train_dataloaders, val_dataloaders, datamodule, ckpt_path)\u001b[0m\n\u001b[1;32m    572\u001b[0m \u001b[38;5;28;01massert\u001b[39;00m \u001b[38;5;28mself\u001b[39m\u001b[38;5;241m.\u001b[39mstate\u001b[38;5;241m.\u001b[39mfn \u001b[38;5;129;01mis\u001b[39;00m \u001b[38;5;129;01mnot\u001b[39;00m \u001b[38;5;28;01mNone\u001b[39;00m\n\u001b[1;32m    573\u001b[0m ckpt_path \u001b[38;5;241m=\u001b[39m \u001b[38;5;28mself\u001b[39m\u001b[38;5;241m.\u001b[39m_checkpoint_connector\u001b[38;5;241m.\u001b[39m_select_ckpt_path(\n\u001b[1;32m    574\u001b[0m     \u001b[38;5;28mself\u001b[39m\u001b[38;5;241m.\u001b[39mstate\u001b[38;5;241m.\u001b[39mfn,\n\u001b[1;32m    575\u001b[0m     ckpt_path,\n\u001b[1;32m    576\u001b[0m     model_provided\u001b[38;5;241m=\u001b[39m\u001b[38;5;28;01mTrue\u001b[39;00m,\n\u001b[1;32m    577\u001b[0m     model_connected\u001b[38;5;241m=\u001b[39m\u001b[38;5;28mself\u001b[39m\u001b[38;5;241m.\u001b[39mlightning_module \u001b[38;5;129;01mis\u001b[39;00m \u001b[38;5;129;01mnot\u001b[39;00m \u001b[38;5;28;01mNone\u001b[39;00m,\n\u001b[1;32m    578\u001b[0m )\n\u001b[0;32m--> 579\u001b[0m \u001b[38;5;28;43mself\u001b[39;49m\u001b[38;5;241;43m.\u001b[39;49m\u001b[43m_run\u001b[49m\u001b[43m(\u001b[49m\u001b[43mmodel\u001b[49m\u001b[43m,\u001b[49m\u001b[43m \u001b[49m\u001b[43mckpt_path\u001b[49m\u001b[38;5;241;43m=\u001b[39;49m\u001b[43mckpt_path\u001b[49m\u001b[43m)\u001b[49m\n\u001b[1;32m    581\u001b[0m \u001b[38;5;28;01massert\u001b[39;00m \u001b[38;5;28mself\u001b[39m\u001b[38;5;241m.\u001b[39mstate\u001b[38;5;241m.\u001b[39mstopped\n\u001b[1;32m    582\u001b[0m \u001b[38;5;28mself\u001b[39m\u001b[38;5;241m.\u001b[39mtraining \u001b[38;5;241m=\u001b[39m \u001b[38;5;28;01mFalse\u001b[39;00m\n",
      "File \u001b[0;32m~/miniconda3/envs/isro-project/lib/python3.12/site-packages/pytorch_lightning/trainer/trainer.py:986\u001b[0m, in \u001b[0;36mTrainer._run\u001b[0;34m(self, model, ckpt_path)\u001b[0m\n\u001b[1;32m    981\u001b[0m \u001b[38;5;28mself\u001b[39m\u001b[38;5;241m.\u001b[39m_signal_connector\u001b[38;5;241m.\u001b[39mregister_signal_handlers()\n\u001b[1;32m    983\u001b[0m \u001b[38;5;66;03m# ----------------------------\u001b[39;00m\n\u001b[1;32m    984\u001b[0m \u001b[38;5;66;03m# RUN THE TRAINER\u001b[39;00m\n\u001b[1;32m    985\u001b[0m \u001b[38;5;66;03m# ----------------------------\u001b[39;00m\n\u001b[0;32m--> 986\u001b[0m results \u001b[38;5;241m=\u001b[39m \u001b[38;5;28;43mself\u001b[39;49m\u001b[38;5;241;43m.\u001b[39;49m\u001b[43m_run_stage\u001b[49m\u001b[43m(\u001b[49m\u001b[43m)\u001b[49m\n\u001b[1;32m    988\u001b[0m \u001b[38;5;66;03m# ----------------------------\u001b[39;00m\n\u001b[1;32m    989\u001b[0m \u001b[38;5;66;03m# POST-Training CLEAN UP\u001b[39;00m\n\u001b[1;32m    990\u001b[0m \u001b[38;5;66;03m# ----------------------------\u001b[39;00m\n\u001b[1;32m    991\u001b[0m log\u001b[38;5;241m.\u001b[39mdebug(\u001b[38;5;124mf\u001b[39m\u001b[38;5;124m\"\u001b[39m\u001b[38;5;132;01m{\u001b[39;00m\u001b[38;5;28mself\u001b[39m\u001b[38;5;241m.\u001b[39m\u001b[38;5;18m__class__\u001b[39m\u001b[38;5;241m.\u001b[39m\u001b[38;5;18m__name__\u001b[39m\u001b[38;5;132;01m}\u001b[39;00m\u001b[38;5;124m: trainer tearing down\u001b[39m\u001b[38;5;124m\"\u001b[39m)\n",
      "File \u001b[0;32m~/miniconda3/envs/isro-project/lib/python3.12/site-packages/pytorch_lightning/trainer/trainer.py:1028\u001b[0m, in \u001b[0;36mTrainer._run_stage\u001b[0;34m(self)\u001b[0m\n\u001b[1;32m   1026\u001b[0m \u001b[38;5;28;01mif\u001b[39;00m \u001b[38;5;28mself\u001b[39m\u001b[38;5;241m.\u001b[39mtraining:\n\u001b[1;32m   1027\u001b[0m     \u001b[38;5;28;01mwith\u001b[39;00m isolate_rng():\n\u001b[0;32m-> 1028\u001b[0m         \u001b[38;5;28;43mself\u001b[39;49m\u001b[38;5;241;43m.\u001b[39;49m\u001b[43m_run_sanity_check\u001b[49m\u001b[43m(\u001b[49m\u001b[43m)\u001b[49m\n\u001b[1;32m   1029\u001b[0m     \u001b[38;5;28;01mwith\u001b[39;00m torch\u001b[38;5;241m.\u001b[39mautograd\u001b[38;5;241m.\u001b[39mset_detect_anomaly(\u001b[38;5;28mself\u001b[39m\u001b[38;5;241m.\u001b[39m_detect_anomaly):\n\u001b[1;32m   1030\u001b[0m         \u001b[38;5;28mself\u001b[39m\u001b[38;5;241m.\u001b[39mfit_loop\u001b[38;5;241m.\u001b[39mrun()\n",
      "File \u001b[0;32m~/miniconda3/envs/isro-project/lib/python3.12/site-packages/pytorch_lightning/trainer/trainer.py:1057\u001b[0m, in \u001b[0;36mTrainer._run_sanity_check\u001b[0;34m(self)\u001b[0m\n\u001b[1;32m   1054\u001b[0m call\u001b[38;5;241m.\u001b[39m_call_callback_hooks(\u001b[38;5;28mself\u001b[39m, \u001b[38;5;124m\"\u001b[39m\u001b[38;5;124mon_sanity_check_start\u001b[39m\u001b[38;5;124m\"\u001b[39m)\n\u001b[1;32m   1056\u001b[0m \u001b[38;5;66;03m# run eval step\u001b[39;00m\n\u001b[0;32m-> 1057\u001b[0m \u001b[43mval_loop\u001b[49m\u001b[38;5;241;43m.\u001b[39;49m\u001b[43mrun\u001b[49m\u001b[43m(\u001b[49m\u001b[43m)\u001b[49m\n\u001b[1;32m   1059\u001b[0m call\u001b[38;5;241m.\u001b[39m_call_callback_hooks(\u001b[38;5;28mself\u001b[39m, \u001b[38;5;124m\"\u001b[39m\u001b[38;5;124mon_sanity_check_end\u001b[39m\u001b[38;5;124m\"\u001b[39m)\n\u001b[1;32m   1061\u001b[0m \u001b[38;5;66;03m# reset logger connector\u001b[39;00m\n",
      "File \u001b[0;32m~/miniconda3/envs/isro-project/lib/python3.12/site-packages/pytorch_lightning/loops/utilities.py:182\u001b[0m, in \u001b[0;36m_no_grad_context.<locals>._decorator\u001b[0;34m(self, *args, **kwargs)\u001b[0m\n\u001b[1;32m    180\u001b[0m     context_manager \u001b[38;5;241m=\u001b[39m torch\u001b[38;5;241m.\u001b[39mno_grad\n\u001b[1;32m    181\u001b[0m \u001b[38;5;28;01mwith\u001b[39;00m context_manager():\n\u001b[0;32m--> 182\u001b[0m     \u001b[38;5;28;01mreturn\u001b[39;00m \u001b[43mloop_run\u001b[49m\u001b[43m(\u001b[49m\u001b[38;5;28;43mself\u001b[39;49m\u001b[43m,\u001b[49m\u001b[43m \u001b[49m\u001b[38;5;241;43m*\u001b[39;49m\u001b[43margs\u001b[49m\u001b[43m,\u001b[49m\u001b[43m \u001b[49m\u001b[38;5;241;43m*\u001b[39;49m\u001b[38;5;241;43m*\u001b[39;49m\u001b[43mkwargs\u001b[49m\u001b[43m)\u001b[49m\n",
      "File \u001b[0;32m~/miniconda3/envs/isro-project/lib/python3.12/site-packages/pytorch_lightning/loops/evaluation_loop.py:135\u001b[0m, in \u001b[0;36m_EvaluationLoop.run\u001b[0;34m(self)\u001b[0m\n\u001b[1;32m    133\u001b[0m     \u001b[38;5;28mself\u001b[39m\u001b[38;5;241m.\u001b[39mbatch_progress\u001b[38;5;241m.\u001b[39mis_last_batch \u001b[38;5;241m=\u001b[39m data_fetcher\u001b[38;5;241m.\u001b[39mdone\n\u001b[1;32m    134\u001b[0m     \u001b[38;5;66;03m# run step hooks\u001b[39;00m\n\u001b[0;32m--> 135\u001b[0m     \u001b[38;5;28;43mself\u001b[39;49m\u001b[38;5;241;43m.\u001b[39;49m\u001b[43m_evaluation_step\u001b[49m\u001b[43m(\u001b[49m\u001b[43mbatch\u001b[49m\u001b[43m,\u001b[49m\u001b[43m \u001b[49m\u001b[43mbatch_idx\u001b[49m\u001b[43m,\u001b[49m\u001b[43m \u001b[49m\u001b[43mdataloader_idx\u001b[49m\u001b[43m,\u001b[49m\u001b[43m \u001b[49m\u001b[43mdataloader_iter\u001b[49m\u001b[43m)\u001b[49m\n\u001b[1;32m    136\u001b[0m \u001b[38;5;28;01mexcept\u001b[39;00m \u001b[38;5;167;01mStopIteration\u001b[39;00m:\n\u001b[1;32m    137\u001b[0m     \u001b[38;5;66;03m# this needs to wrap the `*_step` call too (not just `next`) for `dataloader_iter` support\u001b[39;00m\n\u001b[1;32m    138\u001b[0m     \u001b[38;5;28;01mbreak\u001b[39;00m\n",
      "File \u001b[0;32m~/miniconda3/envs/isro-project/lib/python3.12/site-packages/pytorch_lightning/loops/evaluation_loop.py:396\u001b[0m, in \u001b[0;36m_EvaluationLoop._evaluation_step\u001b[0;34m(self, batch, batch_idx, dataloader_idx, dataloader_iter)\u001b[0m\n\u001b[1;32m    390\u001b[0m hook_name \u001b[38;5;241m=\u001b[39m \u001b[38;5;124m\"\u001b[39m\u001b[38;5;124mtest_step\u001b[39m\u001b[38;5;124m\"\u001b[39m \u001b[38;5;28;01mif\u001b[39;00m trainer\u001b[38;5;241m.\u001b[39mtesting \u001b[38;5;28;01melse\u001b[39;00m \u001b[38;5;124m\"\u001b[39m\u001b[38;5;124mvalidation_step\u001b[39m\u001b[38;5;124m\"\u001b[39m\n\u001b[1;32m    391\u001b[0m step_args \u001b[38;5;241m=\u001b[39m (\n\u001b[1;32m    392\u001b[0m     \u001b[38;5;28mself\u001b[39m\u001b[38;5;241m.\u001b[39m_build_step_args_from_hook_kwargs(hook_kwargs, hook_name)\n\u001b[1;32m    393\u001b[0m     \u001b[38;5;28;01mif\u001b[39;00m \u001b[38;5;129;01mnot\u001b[39;00m using_dataloader_iter\n\u001b[1;32m    394\u001b[0m     \u001b[38;5;28;01melse\u001b[39;00m (dataloader_iter,)\n\u001b[1;32m    395\u001b[0m )\n\u001b[0;32m--> 396\u001b[0m output \u001b[38;5;241m=\u001b[39m \u001b[43mcall\u001b[49m\u001b[38;5;241;43m.\u001b[39;49m\u001b[43m_call_strategy_hook\u001b[49m\u001b[43m(\u001b[49m\u001b[43mtrainer\u001b[49m\u001b[43m,\u001b[49m\u001b[43m \u001b[49m\u001b[43mhook_name\u001b[49m\u001b[43m,\u001b[49m\u001b[43m \u001b[49m\u001b[38;5;241;43m*\u001b[39;49m\u001b[43mstep_args\u001b[49m\u001b[43m)\u001b[49m\n\u001b[1;32m    398\u001b[0m \u001b[38;5;28mself\u001b[39m\u001b[38;5;241m.\u001b[39mbatch_progress\u001b[38;5;241m.\u001b[39mincrement_processed()\n\u001b[1;32m    400\u001b[0m \u001b[38;5;28;01mif\u001b[39;00m using_dataloader_iter:\n\u001b[1;32m    401\u001b[0m     \u001b[38;5;66;03m# update the hook kwargs now that the step method might have consumed the iterator\u001b[39;00m\n",
      "File \u001b[0;32m~/miniconda3/envs/isro-project/lib/python3.12/site-packages/pytorch_lightning/trainer/call.py:311\u001b[0m, in \u001b[0;36m_call_strategy_hook\u001b[0;34m(trainer, hook_name, *args, **kwargs)\u001b[0m\n\u001b[1;32m    308\u001b[0m     \u001b[38;5;28;01mreturn\u001b[39;00m \u001b[38;5;28;01mNone\u001b[39;00m\n\u001b[1;32m    310\u001b[0m \u001b[38;5;28;01mwith\u001b[39;00m trainer\u001b[38;5;241m.\u001b[39mprofiler\u001b[38;5;241m.\u001b[39mprofile(\u001b[38;5;124mf\u001b[39m\u001b[38;5;124m\"\u001b[39m\u001b[38;5;124m[Strategy]\u001b[39m\u001b[38;5;132;01m{\u001b[39;00mtrainer\u001b[38;5;241m.\u001b[39mstrategy\u001b[38;5;241m.\u001b[39m\u001b[38;5;18m__class__\u001b[39m\u001b[38;5;241m.\u001b[39m\u001b[38;5;18m__name__\u001b[39m\u001b[38;5;132;01m}\u001b[39;00m\u001b[38;5;124m.\u001b[39m\u001b[38;5;132;01m{\u001b[39;00mhook_name\u001b[38;5;132;01m}\u001b[39;00m\u001b[38;5;124m\"\u001b[39m):\n\u001b[0;32m--> 311\u001b[0m     output \u001b[38;5;241m=\u001b[39m \u001b[43mfn\u001b[49m\u001b[43m(\u001b[49m\u001b[38;5;241;43m*\u001b[39;49m\u001b[43margs\u001b[49m\u001b[43m,\u001b[49m\u001b[43m \u001b[49m\u001b[38;5;241;43m*\u001b[39;49m\u001b[38;5;241;43m*\u001b[39;49m\u001b[43mkwargs\u001b[49m\u001b[43m)\u001b[49m\n\u001b[1;32m    313\u001b[0m \u001b[38;5;66;03m# restore current_fx when nested context\u001b[39;00m\n\u001b[1;32m    314\u001b[0m pl_module\u001b[38;5;241m.\u001b[39m_current_fx_name \u001b[38;5;241m=\u001b[39m prev_fx_name\n",
      "File \u001b[0;32m~/miniconda3/envs/isro-project/lib/python3.12/site-packages/pytorch_lightning/strategies/strategy.py:411\u001b[0m, in \u001b[0;36mStrategy.validation_step\u001b[0;34m(self, *args, **kwargs)\u001b[0m\n\u001b[1;32m    409\u001b[0m \u001b[38;5;28;01mif\u001b[39;00m \u001b[38;5;28mself\u001b[39m\u001b[38;5;241m.\u001b[39mmodel \u001b[38;5;241m!=\u001b[39m \u001b[38;5;28mself\u001b[39m\u001b[38;5;241m.\u001b[39mlightning_module:\n\u001b[1;32m    410\u001b[0m     \u001b[38;5;28;01mreturn\u001b[39;00m \u001b[38;5;28mself\u001b[39m\u001b[38;5;241m.\u001b[39m_forward_redirection(\u001b[38;5;28mself\u001b[39m\u001b[38;5;241m.\u001b[39mmodel, \u001b[38;5;28mself\u001b[39m\u001b[38;5;241m.\u001b[39mlightning_module, \u001b[38;5;124m\"\u001b[39m\u001b[38;5;124mvalidation_step\u001b[39m\u001b[38;5;124m\"\u001b[39m, \u001b[38;5;241m*\u001b[39margs, \u001b[38;5;241m*\u001b[39m\u001b[38;5;241m*\u001b[39mkwargs)\n\u001b[0;32m--> 411\u001b[0m \u001b[38;5;28;01mreturn\u001b[39;00m \u001b[38;5;28;43mself\u001b[39;49m\u001b[38;5;241;43m.\u001b[39;49m\u001b[43mlightning_module\u001b[49m\u001b[38;5;241;43m.\u001b[39;49m\u001b[43mvalidation_step\u001b[49m\u001b[43m(\u001b[49m\u001b[38;5;241;43m*\u001b[39;49m\u001b[43margs\u001b[49m\u001b[43m,\u001b[49m\u001b[43m \u001b[49m\u001b[38;5;241;43m*\u001b[39;49m\u001b[38;5;241;43m*\u001b[39;49m\u001b[43mkwargs\u001b[49m\u001b[43m)\u001b[49m\n",
      "Cell \u001b[0;32mIn[5], line 46\u001b[0m, in \u001b[0;36mUnidirectionalLSTM.validation_step\u001b[0;34m(self, batch, batch_idx)\u001b[0m\n\u001b[1;32m     42\u001b[0m \u001b[38;5;28;01mdef\u001b[39;00m \u001b[38;5;21mvalidation_step\u001b[39m(\n\u001b[1;32m     43\u001b[0m     \u001b[38;5;28mself\u001b[39m, batch: Tuple[torch\u001b[38;5;241m.\u001b[39mTensor, torch\u001b[38;5;241m.\u001b[39mTensor], batch_idx: \u001b[38;5;28mint\u001b[39m\n\u001b[1;32m     44\u001b[0m ) \u001b[38;5;241m-\u001b[39m\u001b[38;5;241m>\u001b[39m \u001b[38;5;28;01mNone\u001b[39;00m:\n\u001b[1;32m     45\u001b[0m     x, y \u001b[38;5;241m=\u001b[39m batch\n\u001b[0;32m---> 46\u001b[0m     y_hat \u001b[38;5;241m=\u001b[39m \u001b[38;5;28;43mself\u001b[39;49m\u001b[43m(\u001b[49m\u001b[43mx\u001b[49m\u001b[43m)\u001b[49m\n\u001b[1;32m     47\u001b[0m     loss \u001b[38;5;241m=\u001b[39m nn\u001b[38;5;241m.\u001b[39mMSELoss()(y_hat, y)\n\u001b[1;32m     48\u001b[0m     \u001b[38;5;28mself\u001b[39m\u001b[38;5;241m.\u001b[39mlog(\n\u001b[1;32m     49\u001b[0m         \u001b[38;5;124m\"\u001b[39m\u001b[38;5;124mval_loss\u001b[39m\u001b[38;5;124m\"\u001b[39m,\n\u001b[1;32m     50\u001b[0m         loss,\n\u001b[0;32m   (...)\u001b[0m\n\u001b[1;32m     53\u001b[0m         prog_bar\u001b[38;5;241m=\u001b[39m\u001b[38;5;28;01mTrue\u001b[39;00m,\n\u001b[1;32m     54\u001b[0m     )\n",
      "File \u001b[0;32m~/miniconda3/envs/isro-project/lib/python3.12/site-packages/torch/nn/modules/module.py:1532\u001b[0m, in \u001b[0;36mModule._wrapped_call_impl\u001b[0;34m(self, *args, **kwargs)\u001b[0m\n\u001b[1;32m   1530\u001b[0m     \u001b[38;5;28;01mreturn\u001b[39;00m \u001b[38;5;28mself\u001b[39m\u001b[38;5;241m.\u001b[39m_compiled_call_impl(\u001b[38;5;241m*\u001b[39margs, \u001b[38;5;241m*\u001b[39m\u001b[38;5;241m*\u001b[39mkwargs)  \u001b[38;5;66;03m# type: ignore[misc]\u001b[39;00m\n\u001b[1;32m   1531\u001b[0m \u001b[38;5;28;01melse\u001b[39;00m:\n\u001b[0;32m-> 1532\u001b[0m     \u001b[38;5;28;01mreturn\u001b[39;00m \u001b[38;5;28;43mself\u001b[39;49m\u001b[38;5;241;43m.\u001b[39;49m\u001b[43m_call_impl\u001b[49m\u001b[43m(\u001b[49m\u001b[38;5;241;43m*\u001b[39;49m\u001b[43margs\u001b[49m\u001b[43m,\u001b[49m\u001b[43m \u001b[49m\u001b[38;5;241;43m*\u001b[39;49m\u001b[38;5;241;43m*\u001b[39;49m\u001b[43mkwargs\u001b[49m\u001b[43m)\u001b[49m\n",
      "File \u001b[0;32m~/miniconda3/envs/isro-project/lib/python3.12/site-packages/torch/nn/modules/module.py:1541\u001b[0m, in \u001b[0;36mModule._call_impl\u001b[0;34m(self, *args, **kwargs)\u001b[0m\n\u001b[1;32m   1536\u001b[0m \u001b[38;5;66;03m# If we don't have any hooks, we want to skip the rest of the logic in\u001b[39;00m\n\u001b[1;32m   1537\u001b[0m \u001b[38;5;66;03m# this function, and just call forward.\u001b[39;00m\n\u001b[1;32m   1538\u001b[0m \u001b[38;5;28;01mif\u001b[39;00m \u001b[38;5;129;01mnot\u001b[39;00m (\u001b[38;5;28mself\u001b[39m\u001b[38;5;241m.\u001b[39m_backward_hooks \u001b[38;5;129;01mor\u001b[39;00m \u001b[38;5;28mself\u001b[39m\u001b[38;5;241m.\u001b[39m_backward_pre_hooks \u001b[38;5;129;01mor\u001b[39;00m \u001b[38;5;28mself\u001b[39m\u001b[38;5;241m.\u001b[39m_forward_hooks \u001b[38;5;129;01mor\u001b[39;00m \u001b[38;5;28mself\u001b[39m\u001b[38;5;241m.\u001b[39m_forward_pre_hooks\n\u001b[1;32m   1539\u001b[0m         \u001b[38;5;129;01mor\u001b[39;00m _global_backward_pre_hooks \u001b[38;5;129;01mor\u001b[39;00m _global_backward_hooks\n\u001b[1;32m   1540\u001b[0m         \u001b[38;5;129;01mor\u001b[39;00m _global_forward_hooks \u001b[38;5;129;01mor\u001b[39;00m _global_forward_pre_hooks):\n\u001b[0;32m-> 1541\u001b[0m     \u001b[38;5;28;01mreturn\u001b[39;00m \u001b[43mforward_call\u001b[49m\u001b[43m(\u001b[49m\u001b[38;5;241;43m*\u001b[39;49m\u001b[43margs\u001b[49m\u001b[43m,\u001b[49m\u001b[43m \u001b[49m\u001b[38;5;241;43m*\u001b[39;49m\u001b[38;5;241;43m*\u001b[39;49m\u001b[43mkwargs\u001b[49m\u001b[43m)\u001b[49m\n\u001b[1;32m   1543\u001b[0m \u001b[38;5;28;01mtry\u001b[39;00m:\n\u001b[1;32m   1544\u001b[0m     result \u001b[38;5;241m=\u001b[39m \u001b[38;5;28;01mNone\u001b[39;00m\n",
      "Cell \u001b[0;32mIn[5], line 21\u001b[0m, in \u001b[0;36mUnidirectionalLSTM.forward\u001b[0;34m(self, x)\u001b[0m\n\u001b[1;32m     20\u001b[0m \u001b[38;5;28;01mdef\u001b[39;00m \u001b[38;5;21mforward\u001b[39m(\u001b[38;5;28mself\u001b[39m, x: torch\u001b[38;5;241m.\u001b[39mTensor) \u001b[38;5;241m-\u001b[39m\u001b[38;5;241m>\u001b[39m torch\u001b[38;5;241m.\u001b[39mTensor:\n\u001b[0;32m---> 21\u001b[0m     lstm_out, _ \u001b[38;5;241m=\u001b[39m \u001b[38;5;28;43mself\u001b[39;49m\u001b[38;5;241;43m.\u001b[39;49m\u001b[43mlstm\u001b[49m\u001b[43m(\u001b[49m\u001b[43mx\u001b[49m\u001b[43m)\u001b[49m\n\u001b[1;32m     22\u001b[0m     \u001b[38;5;66;03m# Extract the last time step\u001b[39;00m\n\u001b[1;32m     23\u001b[0m     last_step \u001b[38;5;241m=\u001b[39m lstm_out[:, \u001b[38;5;241m-\u001b[39m\u001b[38;5;241m1\u001b[39m, :]\n",
      "File \u001b[0;32m~/miniconda3/envs/isro-project/lib/python3.12/site-packages/torch/nn/modules/module.py:1532\u001b[0m, in \u001b[0;36mModule._wrapped_call_impl\u001b[0;34m(self, *args, **kwargs)\u001b[0m\n\u001b[1;32m   1530\u001b[0m     \u001b[38;5;28;01mreturn\u001b[39;00m \u001b[38;5;28mself\u001b[39m\u001b[38;5;241m.\u001b[39m_compiled_call_impl(\u001b[38;5;241m*\u001b[39margs, \u001b[38;5;241m*\u001b[39m\u001b[38;5;241m*\u001b[39mkwargs)  \u001b[38;5;66;03m# type: ignore[misc]\u001b[39;00m\n\u001b[1;32m   1531\u001b[0m \u001b[38;5;28;01melse\u001b[39;00m:\n\u001b[0;32m-> 1532\u001b[0m     \u001b[38;5;28;01mreturn\u001b[39;00m \u001b[38;5;28;43mself\u001b[39;49m\u001b[38;5;241;43m.\u001b[39;49m\u001b[43m_call_impl\u001b[49m\u001b[43m(\u001b[49m\u001b[38;5;241;43m*\u001b[39;49m\u001b[43margs\u001b[49m\u001b[43m,\u001b[49m\u001b[43m \u001b[49m\u001b[38;5;241;43m*\u001b[39;49m\u001b[38;5;241;43m*\u001b[39;49m\u001b[43mkwargs\u001b[49m\u001b[43m)\u001b[49m\n",
      "File \u001b[0;32m~/miniconda3/envs/isro-project/lib/python3.12/site-packages/torch/nn/modules/module.py:1541\u001b[0m, in \u001b[0;36mModule._call_impl\u001b[0;34m(self, *args, **kwargs)\u001b[0m\n\u001b[1;32m   1536\u001b[0m \u001b[38;5;66;03m# If we don't have any hooks, we want to skip the rest of the logic in\u001b[39;00m\n\u001b[1;32m   1537\u001b[0m \u001b[38;5;66;03m# this function, and just call forward.\u001b[39;00m\n\u001b[1;32m   1538\u001b[0m \u001b[38;5;28;01mif\u001b[39;00m \u001b[38;5;129;01mnot\u001b[39;00m (\u001b[38;5;28mself\u001b[39m\u001b[38;5;241m.\u001b[39m_backward_hooks \u001b[38;5;129;01mor\u001b[39;00m \u001b[38;5;28mself\u001b[39m\u001b[38;5;241m.\u001b[39m_backward_pre_hooks \u001b[38;5;129;01mor\u001b[39;00m \u001b[38;5;28mself\u001b[39m\u001b[38;5;241m.\u001b[39m_forward_hooks \u001b[38;5;129;01mor\u001b[39;00m \u001b[38;5;28mself\u001b[39m\u001b[38;5;241m.\u001b[39m_forward_pre_hooks\n\u001b[1;32m   1539\u001b[0m         \u001b[38;5;129;01mor\u001b[39;00m _global_backward_pre_hooks \u001b[38;5;129;01mor\u001b[39;00m _global_backward_hooks\n\u001b[1;32m   1540\u001b[0m         \u001b[38;5;129;01mor\u001b[39;00m _global_forward_hooks \u001b[38;5;129;01mor\u001b[39;00m _global_forward_pre_hooks):\n\u001b[0;32m-> 1541\u001b[0m     \u001b[38;5;28;01mreturn\u001b[39;00m \u001b[43mforward_call\u001b[49m\u001b[43m(\u001b[49m\u001b[38;5;241;43m*\u001b[39;49m\u001b[43margs\u001b[49m\u001b[43m,\u001b[49m\u001b[43m \u001b[49m\u001b[38;5;241;43m*\u001b[39;49m\u001b[38;5;241;43m*\u001b[39;49m\u001b[43mkwargs\u001b[49m\u001b[43m)\u001b[49m\n\u001b[1;32m   1543\u001b[0m \u001b[38;5;28;01mtry\u001b[39;00m:\n\u001b[1;32m   1544\u001b[0m     result \u001b[38;5;241m=\u001b[39m \u001b[38;5;28;01mNone\u001b[39;00m\n",
      "File \u001b[0;32m~/miniconda3/envs/isro-project/lib/python3.12/site-packages/torch/nn/modules/rnn.py:892\u001b[0m, in \u001b[0;36mLSTM.forward\u001b[0;34m(self, input, hx)\u001b[0m\n\u001b[1;32m    888\u001b[0m     c_zeros \u001b[38;5;241m=\u001b[39m torch\u001b[38;5;241m.\u001b[39mzeros(\u001b[38;5;28mself\u001b[39m\u001b[38;5;241m.\u001b[39mnum_layers \u001b[38;5;241m*\u001b[39m num_directions,\n\u001b[1;32m    889\u001b[0m                           max_batch_size, \u001b[38;5;28mself\u001b[39m\u001b[38;5;241m.\u001b[39mhidden_size,\n\u001b[1;32m    890\u001b[0m                           dtype\u001b[38;5;241m=\u001b[39m\u001b[38;5;28minput\u001b[39m\u001b[38;5;241m.\u001b[39mdtype, device\u001b[38;5;241m=\u001b[39m\u001b[38;5;28minput\u001b[39m\u001b[38;5;241m.\u001b[39mdevice)\n\u001b[1;32m    891\u001b[0m     hx \u001b[38;5;241m=\u001b[39m (h_zeros, c_zeros)\n\u001b[0;32m--> 892\u001b[0m     \u001b[38;5;28;43mself\u001b[39;49m\u001b[38;5;241;43m.\u001b[39;49m\u001b[43mcheck_forward_args\u001b[49m\u001b[43m(\u001b[49m\u001b[38;5;28;43minput\u001b[39;49m\u001b[43m,\u001b[49m\u001b[43m \u001b[49m\u001b[43mhx\u001b[49m\u001b[43m,\u001b[49m\u001b[43m \u001b[49m\u001b[43mbatch_sizes\u001b[49m\u001b[43m)\u001b[49m\n\u001b[1;32m    893\u001b[0m \u001b[38;5;28;01melse\u001b[39;00m:\n\u001b[1;32m    894\u001b[0m     \u001b[38;5;28;01mif\u001b[39;00m is_batched:\n",
      "File \u001b[0;32m~/miniconda3/envs/isro-project/lib/python3.12/site-packages/torch/nn/modules/rnn.py:821\u001b[0m, in \u001b[0;36mLSTM.check_forward_args\u001b[0;34m(self, input, hidden, batch_sizes)\u001b[0m\n\u001b[1;32m    816\u001b[0m \u001b[38;5;28;01mdef\u001b[39;00m \u001b[38;5;21mcheck_forward_args\u001b[39m(\u001b[38;5;28mself\u001b[39m,  \u001b[38;5;66;03m# type: ignore[override]\u001b[39;00m\n\u001b[1;32m    817\u001b[0m                        \u001b[38;5;28minput\u001b[39m: Tensor,\n\u001b[1;32m    818\u001b[0m                        hidden: Tuple[Tensor, Tensor],\n\u001b[1;32m    819\u001b[0m                        batch_sizes: Optional[Tensor],\n\u001b[1;32m    820\u001b[0m                        ):\n\u001b[0;32m--> 821\u001b[0m     \u001b[38;5;28;43mself\u001b[39;49m\u001b[38;5;241;43m.\u001b[39;49m\u001b[43mcheck_input\u001b[49m\u001b[43m(\u001b[49m\u001b[38;5;28;43minput\u001b[39;49m\u001b[43m,\u001b[49m\u001b[43m \u001b[49m\u001b[43mbatch_sizes\u001b[49m\u001b[43m)\u001b[49m\n\u001b[1;32m    822\u001b[0m     \u001b[38;5;28mself\u001b[39m\u001b[38;5;241m.\u001b[39mcheck_hidden_size(hidden[\u001b[38;5;241m0\u001b[39m], \u001b[38;5;28mself\u001b[39m\u001b[38;5;241m.\u001b[39mget_expected_hidden_size(\u001b[38;5;28minput\u001b[39m, batch_sizes),\n\u001b[1;32m    823\u001b[0m                            \u001b[38;5;124m'\u001b[39m\u001b[38;5;124mExpected hidden[0] size \u001b[39m\u001b[38;5;132;01m{}\u001b[39;00m\u001b[38;5;124m, got \u001b[39m\u001b[38;5;132;01m{}\u001b[39;00m\u001b[38;5;124m'\u001b[39m)\n\u001b[1;32m    824\u001b[0m     \u001b[38;5;28mself\u001b[39m\u001b[38;5;241m.\u001b[39mcheck_hidden_size(hidden[\u001b[38;5;241m1\u001b[39m], \u001b[38;5;28mself\u001b[39m\u001b[38;5;241m.\u001b[39mget_expected_cell_size(\u001b[38;5;28minput\u001b[39m, batch_sizes),\n\u001b[1;32m    825\u001b[0m                            \u001b[38;5;124m'\u001b[39m\u001b[38;5;124mExpected hidden[1] size \u001b[39m\u001b[38;5;132;01m{}\u001b[39;00m\u001b[38;5;124m, got \u001b[39m\u001b[38;5;132;01m{}\u001b[39;00m\u001b[38;5;124m'\u001b[39m)\n",
      "File \u001b[0;32m~/miniconda3/envs/isro-project/lib/python3.12/site-packages/torch/nn/modules/rnn.py:240\u001b[0m, in \u001b[0;36mRNNBase.check_input\u001b[0;34m(self, input, batch_sizes)\u001b[0m\n\u001b[1;32m    237\u001b[0m     \u001b[38;5;28;01mraise\u001b[39;00m \u001b[38;5;167;01mRuntimeError\u001b[39;00m(\n\u001b[1;32m    238\u001b[0m         \u001b[38;5;124mf\u001b[39m\u001b[38;5;124m'\u001b[39m\u001b[38;5;124minput must have \u001b[39m\u001b[38;5;132;01m{\u001b[39;00mexpected_input_dim\u001b[38;5;132;01m}\u001b[39;00m\u001b[38;5;124m dimensions, got \u001b[39m\u001b[38;5;132;01m{\u001b[39;00m\u001b[38;5;28minput\u001b[39m\u001b[38;5;241m.\u001b[39mdim()\u001b[38;5;132;01m}\u001b[39;00m\u001b[38;5;124m'\u001b[39m)\n\u001b[1;32m    239\u001b[0m \u001b[38;5;28;01mif\u001b[39;00m \u001b[38;5;28mself\u001b[39m\u001b[38;5;241m.\u001b[39minput_size \u001b[38;5;241m!=\u001b[39m \u001b[38;5;28minput\u001b[39m\u001b[38;5;241m.\u001b[39msize(\u001b[38;5;241m-\u001b[39m\u001b[38;5;241m1\u001b[39m):\n\u001b[0;32m--> 240\u001b[0m     \u001b[38;5;28;01mraise\u001b[39;00m \u001b[38;5;167;01mRuntimeError\u001b[39;00m(\n\u001b[1;32m    241\u001b[0m         \u001b[38;5;124mf\u001b[39m\u001b[38;5;124m'\u001b[39m\u001b[38;5;124minput.size(-1) must be equal to input_size. Expected \u001b[39m\u001b[38;5;132;01m{\u001b[39;00m\u001b[38;5;28mself\u001b[39m\u001b[38;5;241m.\u001b[39minput_size\u001b[38;5;132;01m}\u001b[39;00m\u001b[38;5;124m, got \u001b[39m\u001b[38;5;132;01m{\u001b[39;00m\u001b[38;5;28minput\u001b[39m\u001b[38;5;241m.\u001b[39msize(\u001b[38;5;241m-\u001b[39m\u001b[38;5;241m1\u001b[39m)\u001b[38;5;132;01m}\u001b[39;00m\u001b[38;5;124m'\u001b[39m)\n",
      "\u001b[0;31mRuntimeError\u001b[0m: input.size(-1) must be equal to input_size. Expected 62, got 65"
     ]
    }
   ],
   "source": [
    "torch.clear_autocast_cache()\n",
    "torch.cuda.memory.empty_cache()\n",
    "input_size = train_loader.dataset.features.shape[1] - 3 # Number of features\n",
    "print(input_size)\n",
    "hidden_size = 64\n",
    "num_layers = 8\n",
    "output_size = 1  # For regression\n",
    "logger = TensorBoardLogger(\"tb_logs\", name=\"gurunet_model\")\n",
    "epochs=100\n",
    "checkpoint_callback = ModelCheckpoint(\n",
    "    dirpath=f\"checkpoints/version_{logger.version}\",\n",
    "    filename=\"gurunet-{epoch:02d}-{val_loss:.5f}\",\n",
    "    save_top_k=3,\n",
    "    monitor=\"val_loss\",\n",
    "    mode=\"min\",\n",
    "    verbose=True,\n",
    ")\n",
    "\n",
    "early_stop_callback = EarlyStopping(monitor=\"val_loss\", patience=15, mode=\"min\")\n",
    "\n",
    "lr_monitor = LearningRateMonitor(logging_interval=\"epoch\", log_momentum=True)\n",
    "model = UnidirectionalLSTM(input_size, hidden_size, num_layers, output_size)\n",
    "torch.set_float32_matmul_precision(\"high\")\n",
    "trainer = ptl.Trainer(\n",
    "    max_epochs=epochs,\n",
    "    accelerator=\"gpu\",\n",
    "    devices=1,\n",
    "    callbacks=[\n",
    "        checkpoint_callback,\n",
    "        early_stop_callback,\n",
    "        lr_monitor,\n",
    "    ],\n",
    "    logger=logger,\n",
    "    precision=\"16-mixed\",\n",
    "    enable_progress_bar=True,\n",
    "    enable_checkpointing=True,\n",
    "    accumulate_grad_batches=4,\n",
    "    profiler=\"simple\",\n",
    "    min_epochs=50,\n",
    ")\n",
    "trainer.fit(model, train_loader, val_loader)\n",
    "\n",
    "# Test the model\n",
    "trainer.test(model, test_loader)"
   ]
  }
 ],
 "metadata": {
  "kernelspec": {
   "display_name": "isro-project",
   "language": "python",
   "name": "python3"
  },
  "language_info": {
   "codemirror_mode": {
    "name": "ipython",
    "version": 3
   },
   "file_extension": ".py",
   "mimetype": "text/x-python",
   "name": "python",
   "nbconvert_exporter": "python",
   "pygments_lexer": "ipython3",
   "version": "3.12.4"
  }
 },
 "nbformat": 4,
 "nbformat_minor": 2
}
