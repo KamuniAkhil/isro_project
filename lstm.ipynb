{
 "cells": [
  {
   "cell_type": "code",
   "execution_count": 1,
   "metadata": {},
   "outputs": [],
   "source": [
    "import pytorch_lightning as ptl\n",
    "import polars as pl\n",
    "import torch\n",
    "import torch.nn as nn\n",
    "import torch.nn.functional as F\n",
    "import torch.optim as optim\n",
    "from model.peephole_lstm import PeepholeLSTM\n",
    "from model.data_loader import load_data"
   ]
  },
  {
   "cell_type": "code",
   "execution_count": 3,
   "metadata": {},
   "outputs": [],
   "source": [
    "data: pl.DataFrame = load_data(\"/home/pupperemeritus/isro_project/data/October2023.parquet\")"
   ]
  },
  {
   "cell_type": "code",
   "execution_count": 5,
   "metadata": {},
   "outputs": [
    {
     "data": {
      "text/html": [
       "<div><style>\n",
       ".dataframe > thead > tr,\n",
       ".dataframe > tbody > tr {\n",
       "  text-align: right;\n",
       "  white-space: pre-wrap;\n",
       "}\n",
       "</style>\n",
       "<small>shape: (20, 65)</small><table border=\"1\" class=\"dataframe\"><thead><tr><th>GPS_WN</th><th>GPS_TOW</th><th>SVID</th><th>Value of the RxState field of the ReceiverStatus SBF block</th><th>Azimuth</th><th>Elevation</th><th>Average Sig1 C/N0 over the last minute (dB-Hz)</th><th>S4</th><th>Correction to total S4 on Sig1 (thermal noise component only) (dimensionless)</th><th>Phi01 on Sig1, 1-second phase sigma (radians)</th><th>Phi03 on Sig1, 3-second phase sigma (radians)</th><th>Phi10 on Sig1, 10-second phase sigma (radians)</th><th>Phi30 on Sig1, 30-second phase sigma (radians)</th><th>Phi60 on Sig1, 60-second phase sigma (radians)</th><th>AvgCCD on Sig1, average of code/carrier divergence (meters)</th><th>SigmaCCD on Sig1, standard deviation of code/carrier divergence (meters)</th><th>TEC at TOW - 45 seconds (TECU)</th><th> dTEC from TOW - 60s to TOW - 45s (TECU)</th><th>TEC at TOW - 30 seconds (TECU)</th><th>dTEC from TOW - 45s to TOW - 30s (TECU)</th><th>TEC at TOW - 15 seconds (TECU)</th><th>dTEC from TOW - 30s to TOW - 15s (TECU)</th><th>TEC at TOW (TECU)</th><th>dTEC from TOW - 15s to TOW (TECU)</th><th>Sig1 lock time (seconds)</th><th>sbf2ismr version number</th><th>Lock time on the second frequency used for the TEC computation (seconds)</th><th>Averaged C/N0 of second frequency used for the TEC computation (dB-Hz)</th><th>SI Index on Sig1: (10*log10(Pmax)-10*log10(Pmin))/(10*log10(Pmax)+10*log10(Pmin)) (dimensionless)</th><th>SI Index on Sig1, numerator only: 10*log10(Pmax)-10*log10(Pmin) (dB)</th><th>p on Sig1, spectral slope of detrended phase in the 0.1 to 25Hz range (dimensionless)</th><th>Average Sig2 C/N0 over the last minute (dB-Hz)</th><th>Total S4 on Sig2 (dimensionless)</th><th>Correction to total S4 on Sig2 (thermal noise component only) (dimensionless)</th><th>Phi01 on Sig2, 1-second phase sigma (radians)</th><th> Phi03 on Sig2, 3-second phase sigma (radians)</th><th>Phi10 on Sig2, 10-second phase sigma (radians)</th><th>Phi30 on Sig2, 30-second phase sigma (radians)</th><th>Phi60 on Sig2, 60-second phase sigma (radians)</th><th>AvgCCD on Sig2, average of code/carrier divergence (meters)</th><th>SigmaCCD on Sig2, standard deviation of code/carrier divergence (meters)</th><th>Sig2 lock time (seconds)</th><th>SI Index on Sig2 (dimensionless)</th><th>SI Index on Sig2, numerator only (dB)</th><th>p on Sig2, phase spectral slope in the 0.1 to 25Hz range (dimensionless)</th><th>Average Sig3 C/N0 over the last minute (dB-Hz)</th><th>Total S4 on Sig3 (dimensionless)</th><th>Correction to total S4 on Sig3 (thermal noise component only) (dimensionless)</th><th>Phi01 on Sig3, 1-second phase sigma (radians)</th><th>Phi03 on Sig3, 3-second phase sigma (radians)</th><th>Phi10 on Sig3, 10-second phase sigma (radians)</th><th>Phi30 on Sig3, 30-second phase sigma (radians)</th><th>Phi60 on Sig3, 60-second phase sigma (radians)</th><th>AvgCCD on Sig3, average of code/carrier divergence (meters)</th><th>SigmaCCD on Sig3, standard deviation of code/carrier divergence (meters)</th><th>Sig3 lock time (seconds)</th><th>SI Index on Sig3 (dimensionless)</th><th>SI Index on Sig3, numerator only (dB)</th><th>p on Sig3, phase spectral slope in the 0.1 to 25Hz range (dimensionless)</th><th>T on Sig1, phase power spectral density at 1 Hz (rad^2/Hz)</th><th>T on Sig2, phase power spectral density at 1 Hz (rad^2/Hz)</th><th>T on Sig3, phase power spectral density at 1 Hz (rad^2/Hz)</th><th>Latitude</th><th>Longitude</th><th>IST_Time</th></tr><tr><td>i64</td><td>i64</td><td>i64</td><td>i64</td><td>i64</td><td>i64</td><td>f64</td><td>f64</td><td>f64</td><td>f64</td><td>f64</td><td>f64</td><td>f64</td><td>f64</td><td>f64</td><td>f64</td><td>f64</td><td>f64</td><td>f64</td><td>f64</td><td>f64</td><td>f64</td><td>f64</td><td>f64</td><td>i64</td><td>i64</td><td>i64</td><td>f64</td><td>f64</td><td>f64</td><td>f64</td><td>f64</td><td>f64</td><td>f64</td><td>f64</td><td>f64</td><td>f64</td><td>f64</td><td>f64</td><td>f64</td><td>f64</td><td>i64</td><td>f64</td><td>f64</td><td>f64</td><td>f64</td><td>f64</td><td>f64</td><td>f64</td><td>f64</td><td>f64</td><td>f64</td><td>f64</td><td>f64</td><td>f64</td><td>i64</td><td>f64</td><td>f64</td><td>f64</td><td>f64</td><td>f64</td><td>f64</td><td>f64</td><td>f64</td><td>datetime[μs]</td></tr></thead><tbody><tr><td>2282</td><td>60</td><td>5</td><td>630</td><td>17</td><td>67</td><td>49.4</td><td>0.027</td><td>0.034</td><td>0.017</td><td>0.031</td><td>0.04</td><td>0.04</td><td>0.041</td><td>-14.596</td><td>0.004</td><td>12.61</td><td>0.01</td><td>12.572</td><td>0.007</td><td>12.591</td><td>0.008</td><td>12.572</td><td>0.016</td><td>13911</td><td>781</td><td>7834</td><td>57.4</td><td>0.007</td><td>0.782</td><td>1.8</td><td>48.7</td><td>0.035</td><td>0.037</td><td>0.017</td><td>0.03</td><td>0.039</td><td>0.039</td><td>0.04</td><td>-25.402</td><td>0.007</td><td>7834</td><td>0.01</td><td>0.93</td><td>1.66</td><td>null</td><td>null</td><td>null</td><td>null</td><td>null</td><td>null</td><td>null</td><td>null</td><td>null</td><td>null</td><td>null</td><td>null</td><td>null</td><td>null</td><td>0.000027</td><td>0.00003</td><td>null</td><td>18.777651</td><td>78.758218</td><td>2023-10-01 05:31:00</td></tr><tr><td>2282</td><td>60</td><td>11</td><td>630</td><td>47</td><td>20</td><td>36.2</td><td>0.124</td><td>0.156</td><td>0.039</td><td>0.041</td><td>0.043</td><td>0.043</td><td>0.043</td><td>-30.136</td><td>0.018</td><td>19.332</td><td>0.089</td><td>19.37</td><td>0.118</td><td>19.77</td><td>0.109</td><td>19.989</td><td>0.078</td><td>22104</td><td>781</td><td>22100</td><td>22.1</td><td>0.039</td><td>3.334</td><td>1.31</td><td>39.5</td><td>0.109</td><td>0.106</td><td>0.036</td><td>0.042</td><td>0.054</td><td>0.056</td><td>0.058</td><td>-48.513</td><td>0.05</td><td>256</td><td>0.038</td><td>2.975</td><td>1.51</td><td>42.2</td><td>0.079</td><td>0.077</td><td>0.027</td><td>0.037</td><td>0.056</td><td>0.06</td><td>0.069</td><td>-53.368</td><td>0.066</td><td>22143</td><td>0.026</td><td>2.3</td><td>1.45</td><td>0.000137</td><td>0.000148</td><td>0.000081</td><td>22.710547</td><td>84.609833</td><td>2023-10-01 05:31:00</td></tr><tr><td>2282</td><td>60</td><td>12</td><td>630</td><td>195</td><td>53</td><td>48.9</td><td>0.031</td><td>0.036</td><td>0.015</td><td>0.02</td><td>0.022</td><td>0.023</td><td>0.023</td><td>-5.513</td><td>0.011</td><td>14.542</td><td>0.023</td><td>14.637</td><td>0.02</td><td>14.656</td><td>0.029</td><td>14.732</td><td>0.024</td><td>15353</td><td>781</td><td>7834</td><td>54.9</td><td>0.008</td><td>0.91</td><td>1.83</td><td>46.5</td><td>0.047</td><td>0.047</td><td>0.017</td><td>0.023</td><td>0.028</td><td>0.029</td><td>0.029</td><td>-9.81</td><td>0.018</td><td>7834</td><td>0.014</td><td>1.32</td><td>1.76</td><td>null</td><td>null</td><td>null</td><td>null</td><td>null</td><td>null</td><td>null</td><td>null</td><td>null</td><td>null</td><td>null</td><td>null</td><td>null</td><td>null</td><td>0.00003</td><td>0.000046</td><td>null</td><td>14.927063</td><td>77.62753</td><td>2023-10-01 05:31:00</td></tr><tr><td>2282</td><td>60</td><td>13</td><td>630</td><td>124</td><td>28</td><td>41.3</td><td>0.086</td><td>0.086</td><td>0.035</td><td>0.054</td><td>0.081</td><td>0.087</td><td>0.098</td><td>-10.845</td><td>0.002</td><td>24.417</td><td>-0.006</td><td>24.551</td><td>0.004</td><td>24.646</td><td>0.023</td><td>24.779</td><td>-0.004</td><td>12400</td><td>781</td><td>6250</td><td>27.9</td><td>0.026</td><td>2.475</td><td>1.77</td><td>null</td><td>null</td><td>null</td><td>null</td><td>null</td><td>null</td><td>null</td><td>null</td><td>null</td><td>null</td><td>null</td><td>null</td><td>null</td><td>null</td><td>null</td><td>null</td><td>null</td><td>null</td><td>null</td><td>null</td><td>null</td><td>null</td><td>null</td><td>null</td><td>null</td><td>null</td><td>null</td><td>null</td><td>0.000182</td><td>null</td><td>null</td><td>14.027978</td><td>83.352908</td><td>2023-10-01 05:31:00</td></tr><tr><td>2282</td><td>60</td><td>15</td><td>630</td><td>169</td><td>32</td><td>43.7</td><td>0.075</td><td>0.065</td><td>0.027</td><td>0.034</td><td>0.044</td><td>0.046</td><td>0.047</td><td>-7.634</td><td>0.011</td><td>20.718</td><td>-0.017</td><td>20.603</td><td>-0.043</td><td>20.527</td><td>-0.026</td><td>20.622</td><td>-0.023</td><td>6128</td><td>781</td><td>6102</td><td>45.5</td><td>0.021</td><td>2.063</td><td>1.53</td><td>41.9</td><td>0.083</td><td>0.08</td><td>0.028</td><td>0.033</td><td>0.039</td><td>0.04</td><td>0.04</td><td>-12.534</td><td>0.019</td><td>6121</td><td>0.027</td><td>2.312</td><td>1.61</td><td>null</td><td>null</td><td>null</td><td>null</td><td>null</td><td>null</td><td>null</td><td>null</td><td>null</td><td>null</td><td>null</td><td>null</td><td>null</td><td>null</td><td>0.000086</td><td>0.000102</td><td>null</td><td>12.342354</td><td>79.312619</td><td>2023-10-01 05:31:00</td></tr><tr><td>&hellip;</td><td>&hellip;</td><td>&hellip;</td><td>&hellip;</td><td>&hellip;</td><td>&hellip;</td><td>&hellip;</td><td>&hellip;</td><td>&hellip;</td><td>&hellip;</td><td>&hellip;</td><td>&hellip;</td><td>&hellip;</td><td>&hellip;</td><td>&hellip;</td><td>&hellip;</td><td>&hellip;</td><td>&hellip;</td><td>&hellip;</td><td>&hellip;</td><td>&hellip;</td><td>&hellip;</td><td>&hellip;</td><td>&hellip;</td><td>&hellip;</td><td>&hellip;</td><td>&hellip;</td><td>&hellip;</td><td>&hellip;</td><td>&hellip;</td><td>&hellip;</td><td>&hellip;</td><td>&hellip;</td><td>&hellip;</td><td>&hellip;</td><td>&hellip;</td><td>&hellip;</td><td>&hellip;</td><td>&hellip;</td><td>&hellip;</td><td>&hellip;</td><td>&hellip;</td><td>&hellip;</td><td>&hellip;</td><td>&hellip;</td><td>&hellip;</td><td>&hellip;</td><td>&hellip;</td><td>&hellip;</td><td>&hellip;</td><td>&hellip;</td><td>&hellip;</td><td>&hellip;</td><td>&hellip;</td><td>&hellip;</td><td>&hellip;</td><td>&hellip;</td><td>&hellip;</td><td>&hellip;</td><td>&hellip;</td><td>&hellip;</td><td>&hellip;</td><td>&hellip;</td><td>&hellip;</td><td>&hellip;</td></tr><tr><td>2282</td><td>60</td><td>47</td><td>630</td><td>230</td><td>30</td><td>44.2</td><td>0.064</td><td>0.062</td><td>0.025</td><td>0.035</td><td>0.055</td><td>0.056</td><td>0.056</td><td>-4.503</td><td>0.014</td><td>null</td><td>null</td><td>null</td><td>null</td><td>null</td><td>null</td><td>null</td><td>null</td><td>11636</td><td>781</td><td>null</td><td>null</td><td>0.019</td><td>1.704</td><td>1.73</td><td>null</td><td>null</td><td>null</td><td>null</td><td>null</td><td>null</td><td>null</td><td>null</td><td>null</td><td>null</td><td>null</td><td>null</td><td>null</td><td>null</td><td>null</td><td>null</td><td>null</td><td>null</td><td>null</td><td>null</td><td>null</td><td>null</td><td>null</td><td>null</td><td>null</td><td>null</td><td>null</td><td>null</td><td>0.000085</td><td>null</td><td>null</td><td>13.806814</td><td>73.969906</td><td>2023-10-01 05:31:00</td></tr><tr><td>2282</td><td>60</td><td>48</td><td>630</td><td>291</td><td>24</td><td>47.7</td><td>0.059</td><td>0.041</td><td>0.031</td><td>0.047</td><td>0.067</td><td>0.071</td><td>0.078</td><td>-1.968</td><td>0.005</td><td>56.012</td><td>0.017</td><td>56.119</td><td>0.031</td><td>56.363</td><td>-0.012</td><td>56.334</td><td>0.016</td><td>4878</td><td>781</td><td>4875</td><td>46.2</td><td>0.016</td><td>1.564</td><td>2.14</td><td>46.2</td><td>0.087</td><td>0.049</td><td>0.024</td><td>0.033</td><td>0.043</td><td>0.044</td><td>0.045</td><td>-3.296</td><td>0.012</td><td>4875</td><td>0.024</td><td>2.211</td><td>1.85</td><td>null</td><td>null</td><td>null</td><td>null</td><td>null</td><td>null</td><td>null</td><td>null</td><td>null</td><td>null</td><td>null</td><td>null</td><td>null</td><td>null</td><td>0.000132</td><td>0.000085</td><td>null</td><td>19.718511</td><td>71.541273</td><td>2023-10-01 05:31:00</td></tr><tr><td>2282</td><td>60</td><td>57</td><td>630</td><td>30</td><td>28</td><td>38.0</td><td>0.124</td><td>0.126</td><td>0.047</td><td>0.061</td><td>0.085</td><td>0.087</td><td>0.09</td><td>-24.469</td><td>0.016</td><td>17.959</td><td>-0.057</td><td>17.91</td><td>0.019</td><td>18.36</td><td>0.023</td><td>18.213</td><td>0.063</td><td>16684</td><td>781</td><td>7834</td><td>38.8</td><td>0.045</td><td>3.387</td><td>1.7</td><td>38.8</td><td>0.122</td><td>0.115</td><td>0.042</td><td>0.048</td><td>0.063</td><td>0.063</td><td>0.064</td><td>-36.836</td><td>0.015</td><td>7834</td><td>0.041</td><td>3.2</td><td>1.61</td><td>null</td><td>null</td><td>null</td><td>null</td><td>null</td><td>null</td><td>null</td><td>null</td><td>null</td><td>null</td><td>null</td><td>null</td><td>null</td><td>null</td><td>0.000313</td><td>0.000221</td><td>null</td><td>22.476348</td><td>81.500818</td><td>2023-10-01 05:31:00</td></tr><tr><td>2282</td><td>60</td><td>58</td><td>630</td><td>327</td><td>19</td><td>44.6</td><td>0.113</td><td>0.059</td><td>0.038</td><td>0.082</td><td>0.114</td><td>0.116</td><td>0.118</td><td>-28.491</td><td>0.01</td><td>30.414</td><td>-0.032</td><td>30.16</td><td>-0.024</td><td>30.179</td><td>0.003</td><td>30.082</td><td>-0.037</td><td>9333</td><td>781</td><td>7834</td><td>43.3</td><td>0.031</td><td>2.72</td><td>1.78</td><td>43.3</td><td>0.136</td><td>0.069</td><td>0.035</td><td>0.073</td><td>0.098</td><td>0.1</td><td>0.103</td><td>-40.75</td><td>0.019</td><td>7834</td><td>0.035</td><td>3.044</td><td>1.68</td><td>null</td><td>null</td><td>null</td><td>null</td><td>null</td><td>null</td><td>null</td><td>null</td><td>null</td><td>null</td><td>null</td><td>null</td><td>null</td><td>null</td><td>0.000098</td><td>0.000099</td><td>null</td><td>24.267627</td><td>73.375128</td><td>2023-10-01 05:31:00</td></tr><tr><td>2282</td><td>60</td><td>72</td><td>630</td><td>172</td><td>29</td><td>42.2</td><td>0.083</td><td>0.078</td><td>0.027</td><td>0.029</td><td>0.032</td><td>0.032</td><td>0.033</td><td>-32.022</td><td>0.014</td><td>23.067</td><td>0.043</td><td>23.113</td><td>0.035</td><td>23.199</td><td>0.057</td><td>23.199</td><td>0.038</td><td>7834</td><td>781</td><td>33586</td><td>44.1</td><td>0.024</td><td>2.2</td><td>1.46</td><td>44.1</td><td>0.065</td><td>0.062</td><td>0.022</td><td>0.027</td><td>0.037</td><td>0.039</td><td>0.041</td><td>-58.623</td><td>0.028</td><td>33586</td><td>0.019</td><td>1.783</td><td>1.56</td><td>46.4</td><td>0.047</td><td>0.048</td><td>0.016</td><td>0.018</td><td>0.019</td><td>0.019</td><td>0.019</td><td>-55.765</td><td>0.027</td><td>7834</td><td>0.014</td><td>1.345</td><td>1.49</td><td>0.00008</td><td>0.000061</td><td>0.00003</td><td>11.743823</td><td>79.11896</td><td>2023-10-01 05:31:00</td></tr></tbody></table></div>"
      ],
      "text/plain": [
       "shape: (20, 65)\n",
       "┌────────┬─────────┬──────┬──────────────┬───┬──────────────┬───────────┬───────────┬──────────────┐\n",
       "│ GPS_WN ┆ GPS_TOW ┆ SVID ┆ Value of the ┆ … ┆ T on Sig3,   ┆ Latitude  ┆ Longitude ┆ IST_Time     │\n",
       "│ ---    ┆ ---     ┆ ---  ┆ RxState      ┆   ┆ phase power  ┆ ---       ┆ ---       ┆ ---          │\n",
       "│ i64    ┆ i64     ┆ i64  ┆ field of …   ┆   ┆ spectra…     ┆ f64       ┆ f64       ┆ datetime[μs] │\n",
       "│        ┆         ┆      ┆ ---          ┆   ┆ ---          ┆           ┆           ┆              │\n",
       "│        ┆         ┆      ┆ i64          ┆   ┆ f64          ┆           ┆           ┆              │\n",
       "╞════════╪═════════╪══════╪══════════════╪═══╪══════════════╪═══════════╪═══════════╪══════════════╡\n",
       "│ 2282   ┆ 60      ┆ 5    ┆ 630          ┆ … ┆ null         ┆ 18.777651 ┆ 78.758218 ┆ 2023-10-01   │\n",
       "│        ┆         ┆      ┆              ┆   ┆              ┆           ┆           ┆ 05:31:00     │\n",
       "│ 2282   ┆ 60      ┆ 11   ┆ 630          ┆ … ┆ 0.000081     ┆ 22.710547 ┆ 84.609833 ┆ 2023-10-01   │\n",
       "│        ┆         ┆      ┆              ┆   ┆              ┆           ┆           ┆ 05:31:00     │\n",
       "│ 2282   ┆ 60      ┆ 12   ┆ 630          ┆ … ┆ null         ┆ 14.927063 ┆ 77.62753  ┆ 2023-10-01   │\n",
       "│        ┆         ┆      ┆              ┆   ┆              ┆           ┆           ┆ 05:31:00     │\n",
       "│ 2282   ┆ 60      ┆ 13   ┆ 630          ┆ … ┆ null         ┆ 14.027978 ┆ 83.352908 ┆ 2023-10-01   │\n",
       "│        ┆         ┆      ┆              ┆   ┆              ┆           ┆           ┆ 05:31:00     │\n",
       "│ 2282   ┆ 60      ┆ 15   ┆ 630          ┆ … ┆ null         ┆ 12.342354 ┆ 79.312619 ┆ 2023-10-01   │\n",
       "│        ┆         ┆      ┆              ┆   ┆              ┆           ┆           ┆ 05:31:00     │\n",
       "│ …      ┆ …       ┆ …    ┆ …            ┆ … ┆ …            ┆ …         ┆ …         ┆ …            │\n",
       "│ 2282   ┆ 60      ┆ 47   ┆ 630          ┆ … ┆ null         ┆ 13.806814 ┆ 73.969906 ┆ 2023-10-01   │\n",
       "│        ┆         ┆      ┆              ┆   ┆              ┆           ┆           ┆ 05:31:00     │\n",
       "│ 2282   ┆ 60      ┆ 48   ┆ 630          ┆ … ┆ null         ┆ 19.718511 ┆ 71.541273 ┆ 2023-10-01   │\n",
       "│        ┆         ┆      ┆              ┆   ┆              ┆           ┆           ┆ 05:31:00     │\n",
       "│ 2282   ┆ 60      ┆ 57   ┆ 630          ┆ … ┆ null         ┆ 22.476348 ┆ 81.500818 ┆ 2023-10-01   │\n",
       "│        ┆         ┆      ┆              ┆   ┆              ┆           ┆           ┆ 05:31:00     │\n",
       "│ 2282   ┆ 60      ┆ 58   ┆ 630          ┆ … ┆ null         ┆ 24.267627 ┆ 73.375128 ┆ 2023-10-01   │\n",
       "│        ┆         ┆      ┆              ┆   ┆              ┆           ┆           ┆ 05:31:00     │\n",
       "│ 2282   ┆ 60      ┆ 72   ┆ 630          ┆ … ┆ 0.00003      ┆ 11.743823 ┆ 79.11896  ┆ 2023-10-01   │\n",
       "│        ┆         ┆      ┆              ┆   ┆              ┆           ┆           ┆ 05:31:00     │\n",
       "└────────┴─────────┴──────┴──────────────┴───┴──────────────┴───────────┴───────────┴──────────────┘"
      ]
     },
     "execution_count": 5,
     "metadata": {},
     "output_type": "execute_result"
    }
   ],
   "source": [
    "data.head(20)"
   ]
  },
  {
   "cell_type": "code",
   "execution_count": 6,
   "metadata": {},
   "outputs": [
    {
     "data": {
      "text/html": [
       "<div><style>\n",
       ".dataframe > thead > tr,\n",
       ".dataframe > tbody > tr {\n",
       "  text-align: right;\n",
       "  white-space: pre-wrap;\n",
       "}\n",
       "</style>\n",
       "<small>shape: (9, 66)</small><table border=\"1\" class=\"dataframe\"><thead><tr><th>statistic</th><th>GPS_WN</th><th>GPS_TOW</th><th>SVID</th><th>Value of the RxState field of the ReceiverStatus SBF block</th><th>Azimuth</th><th>Elevation</th><th>Average Sig1 C/N0 over the last minute (dB-Hz)</th><th>S4</th><th>Correction to total S4 on Sig1 (thermal noise component only) (dimensionless)</th><th>Phi01 on Sig1, 1-second phase sigma (radians)</th><th>Phi03 on Sig1, 3-second phase sigma (radians)</th><th>Phi10 on Sig1, 10-second phase sigma (radians)</th><th>Phi30 on Sig1, 30-second phase sigma (radians)</th><th>Phi60 on Sig1, 60-second phase sigma (radians)</th><th>AvgCCD on Sig1, average of code/carrier divergence (meters)</th><th>SigmaCCD on Sig1, standard deviation of code/carrier divergence (meters)</th><th>TEC at TOW - 45 seconds (TECU)</th><th> dTEC from TOW - 60s to TOW - 45s (TECU)</th><th>TEC at TOW - 30 seconds (TECU)</th><th>dTEC from TOW - 45s to TOW - 30s (TECU)</th><th>TEC at TOW - 15 seconds (TECU)</th><th>dTEC from TOW - 30s to TOW - 15s (TECU)</th><th>TEC at TOW (TECU)</th><th>dTEC from TOW - 15s to TOW (TECU)</th><th>Sig1 lock time (seconds)</th><th>sbf2ismr version number</th><th>Lock time on the second frequency used for the TEC computation (seconds)</th><th>Averaged C/N0 of second frequency used for the TEC computation (dB-Hz)</th><th>SI Index on Sig1: (10*log10(Pmax)-10*log10(Pmin))/(10*log10(Pmax)+10*log10(Pmin)) (dimensionless)</th><th>SI Index on Sig1, numerator only: 10*log10(Pmax)-10*log10(Pmin) (dB)</th><th>p on Sig1, spectral slope of detrended phase in the 0.1 to 25Hz range (dimensionless)</th><th>Average Sig2 C/N0 over the last minute (dB-Hz)</th><th>Total S4 on Sig2 (dimensionless)</th><th>Correction to total S4 on Sig2 (thermal noise component only) (dimensionless)</th><th>Phi01 on Sig2, 1-second phase sigma (radians)</th><th> Phi03 on Sig2, 3-second phase sigma (radians)</th><th>Phi10 on Sig2, 10-second phase sigma (radians)</th><th>Phi30 on Sig2, 30-second phase sigma (radians)</th><th>Phi60 on Sig2, 60-second phase sigma (radians)</th><th>AvgCCD on Sig2, average of code/carrier divergence (meters)</th><th>SigmaCCD on Sig2, standard deviation of code/carrier divergence (meters)</th><th>Sig2 lock time (seconds)</th><th>SI Index on Sig2 (dimensionless)</th><th>SI Index on Sig2, numerator only (dB)</th><th>p on Sig2, phase spectral slope in the 0.1 to 25Hz range (dimensionless)</th><th>Average Sig3 C/N0 over the last minute (dB-Hz)</th><th>Total S4 on Sig3 (dimensionless)</th><th>Correction to total S4 on Sig3 (thermal noise component only) (dimensionless)</th><th>Phi01 on Sig3, 1-second phase sigma (radians)</th><th>Phi03 on Sig3, 3-second phase sigma (radians)</th><th>Phi10 on Sig3, 10-second phase sigma (radians)</th><th>Phi30 on Sig3, 30-second phase sigma (radians)</th><th>Phi60 on Sig3, 60-second phase sigma (radians)</th><th>AvgCCD on Sig3, average of code/carrier divergence (meters)</th><th>SigmaCCD on Sig3, standard deviation of code/carrier divergence (meters)</th><th>Sig3 lock time (seconds)</th><th>SI Index on Sig3 (dimensionless)</th><th>SI Index on Sig3, numerator only (dB)</th><th>p on Sig3, phase spectral slope in the 0.1 to 25Hz range (dimensionless)</th><th>T on Sig1, phase power spectral density at 1 Hz (rad^2/Hz)</th><th>T on Sig2, phase power spectral density at 1 Hz (rad^2/Hz)</th><th>T on Sig3, phase power spectral density at 1 Hz (rad^2/Hz)</th><th>Latitude</th><th>Longitude</th><th>IST_Time</th></tr><tr><td>str</td><td>f64</td><td>f64</td><td>f64</td><td>f64</td><td>f64</td><td>f64</td><td>f64</td><td>f64</td><td>f64</td><td>f64</td><td>f64</td><td>f64</td><td>f64</td><td>f64</td><td>f64</td><td>f64</td><td>f64</td><td>f64</td><td>f64</td><td>f64</td><td>f64</td><td>f64</td><td>f64</td><td>f64</td><td>f64</td><td>f64</td><td>f64</td><td>f64</td><td>f64</td><td>f64</td><td>f64</td><td>f64</td><td>f64</td><td>f64</td><td>f64</td><td>f64</td><td>f64</td><td>f64</td><td>f64</td><td>f64</td><td>f64</td><td>f64</td><td>f64</td><td>f64</td><td>f64</td><td>f64</td><td>f64</td><td>f64</td><td>f64</td><td>f64</td><td>f64</td><td>f64</td><td>f64</td><td>f64</td><td>f64</td><td>f64</td><td>f64</td><td>f64</td><td>f64</td><td>f64</td><td>f64</td><td>f64</td><td>f64</td><td>f64</td><td>str</td></tr></thead><tbody><tr><td>&quot;count&quot;</td><td>2.861526e6</td><td>2.861526e6</td><td>2.861526e6</td><td>2.861526e6</td><td>2.861526e6</td><td>2.861526e6</td><td>2.861526e6</td><td>2.861526e6</td><td>2.861526e6</td><td>2.861193e6</td><td>2.86084e6</td><td>2.859392e6</td><td>2.85588e6</td><td>2.851929e6</td><td>2.861526e6</td><td>2.861526e6</td><td>2.04812e6</td><td>2.04812e6</td><td>2.047947e6</td><td>2.03574e6</td><td>2.047866e6</td><td>2.035561e6</td><td>2.064552e6</td><td>2.047866e6</td><td>2.856186e6</td><td>2.861526e6</td><td>2.100334e6</td><td>2.141623e6</td><td>2.861525e6</td><td>2.861525e6</td><td>2.848677e6</td><td>2.05852e6</td><td>2.057873e6</td><td>2.057873e6</td><td>2.057133e6</td><td>2.056179e6</td><td>2.05108e6</td><td>2.03582e6</td><td>2.019739e6</td><td>2.058519e6</td><td>2.058519e6</td><td>2.018553e6</td><td>2.058772e6</td><td>2.058772e6</td><td>1.99261e6</td><td>1.854944e6</td><td>1.854909e6</td><td>1.854909e6</td><td>1.854717e6</td><td>1.854553e6</td><td>1.854001e6</td><td>1.852861e6</td><td>1.851745e6</td><td>1.854943e6</td><td>1.854943e6</td><td>1.854101e6</td><td>1.854951e6</td><td>1.854951e6</td><td>1.850672e6</td><td>2.848677e6</td><td>1.99261e6</td><td>1.850672e6</td><td>2.861526e6</td><td>2.861526e6</td><td>&quot;2861526&quot;</td></tr><tr><td>&quot;null_count&quot;</td><td>0.0</td><td>0.0</td><td>0.0</td><td>0.0</td><td>0.0</td><td>0.0</td><td>0.0</td><td>0.0</td><td>0.0</td><td>333.0</td><td>686.0</td><td>2134.0</td><td>5646.0</td><td>9597.0</td><td>0.0</td><td>0.0</td><td>813406.0</td><td>813406.0</td><td>813579.0</td><td>825786.0</td><td>813660.0</td><td>825965.0</td><td>796974.0</td><td>813660.0</td><td>5340.0</td><td>0.0</td><td>761192.0</td><td>719903.0</td><td>1.0</td><td>1.0</td><td>12849.0</td><td>803006.0</td><td>803653.0</td><td>803653.0</td><td>804393.0</td><td>805347.0</td><td>810446.0</td><td>825706.0</td><td>841787.0</td><td>803007.0</td><td>803007.0</td><td>842973.0</td><td>802754.0</td><td>802754.0</td><td>868916.0</td><td>1.006582e6</td><td>1.006617e6</td><td>1.006617e6</td><td>1.006809e6</td><td>1.006973e6</td><td>1.007525e6</td><td>1.008665e6</td><td>1.009781e6</td><td>1.006583e6</td><td>1.006583e6</td><td>1.007425e6</td><td>1.006575e6</td><td>1.006575e6</td><td>1.010854e6</td><td>12849.0</td><td>868916.0</td><td>1.010854e6</td><td>0.0</td><td>0.0</td><td>&quot;0&quot;</td></tr><tr><td>&quot;mean&quot;</td><td>2283.74349</td><td>285852.412119</td><td>115.527053</td><td>630.0</td><td>156.216331</td><td>35.561843</td><td>42.27588</td><td>0.126852</td><td>0.098654</td><td>0.04335</td><td>0.059783</td><td>0.073823</td><td>0.075742</td><td>0.07651</td><td>-4.692243</td><td>0.863711</td><td>49.573304</td><td>-0.000101</td><td>49.591379</td><td>0.001139</td><td>49.638422</td><td>0.002616</td><td>48.233404</td><td>-0.001537</td><td>18365.144978</td><td>781.0</td><td>11856.566998</td><td>41.623682</td><td>0.044002</td><td>3.627524</td><td>1.632307</td><td>42.892343</td><td>0.121018</td><td>0.0871</td><td>0.03971</td><td>0.057793</td><td>0.073562</td><td>0.074555</td><td>0.074335</td><td>-5.1725</td><td>0.095441</td><td>12271.251307</td><td>0.041567</td><td>3.321089</td><td>1.646262</td><td>45.238549</td><td>0.094613</td><td>0.065089</td><td>0.028103</td><td>0.037149</td><td>0.044331</td><td>0.045203</td><td>0.045497</td><td>-3.79563</td><td>0.072474</td><td>14497.969627</td><td>0.030759</td><td>2.623842</td><td>1.614762</td><td>0.000966</td><td>0.00026</td><td>0.000173</td><td>16.398506</td><td>79.486235</td><td>&quot;2023-10-16 17:48:35.382715&quot;</td></tr><tr><td>&quot;std&quot;</td><td>1.293138</td><td>175110.130981</td><td>65.998176</td><td>0.0</td><td>91.849103</td><td>20.825982</td><td>6.01593</td><td>0.114198</td><td>0.075153</td><td>0.036163</td><td>0.065074</td><td>0.104788</td><td>0.129484</td><td>0.154903</td><td>28.169717</td><td>8.195888</td><td>184.222366</td><td>4.071804</td><td>184.129496</td><td>4.800821</td><td>184.104346</td><td>4.026672</td><td>184.924359</td><td>4.683901</td><td>19999.680397</td><td>0.0</td><td>17563.796537</td><td>8.099016</td><td>0.052642</td><td>3.548834</td><td>0.226544</td><td>5.34181</td><td>0.124721</td><td>0.057836</td><td>0.035357</td><td>0.068162</td><td>0.098707</td><td>0.101601</td><td>0.102725</td><td>37.11309</td><td>0.199761</td><td>17853.309359</td><td>0.055942</td><td>3.7644</td><td>0.220986</td><td>5.075013</td><td>0.115144</td><td>0.04097</td><td>0.030481</td><td>0.057669</td><td>0.079861</td><td>0.083302</td><td>0.084809</td><td>40.516601</td><td>0.12701</td><td>18905.652884</td><td>0.050432</td><td>3.696286</td><td>0.216915</td><td>0.068307</td><td>0.001292</td><td>0.001194</td><td>5.093402</td><td>5.607641</td><td>null</td></tr><tr><td>&quot;min&quot;</td><td>2282.0</td><td>0.0</td><td>2.0</td><td>630.0</td><td>0.0</td><td>0.0</td><td>22.3</td><td>0.015</td><td>0.017</td><td>0.008</td><td>0.01</td><td>0.012</td><td>0.012</td><td>0.012</td><td>-285.273</td><td>0.0</td><td>-1169.424</td><td>-1076.654</td><td>-1168.849</td><td>-1038.882</td><td>-1169.866</td><td>-1055.651</td><td>-1169.719</td><td>-999.304</td><td>0.0</td><td>781.0</td><td>0.0</td><td>1.3</td><td>0.003</td><td>0.35</td><td>0.0</td><td>22.5</td><td>0.017</td><td>0.018</td><td>0.007</td><td>0.009</td><td>0.01</td><td>0.01</td><td>0.01</td><td>-261.431</td><td>0.0</td><td>0.0</td><td>-0.039</td><td>-2.67</td><td>1.11</td><td>22.5</td><td>0.016</td><td>0.015</td><td>0.005</td><td>0.005</td><td>0.007</td><td>0.009</td><td>0.009</td><td>-174.708</td><td>0.0</td><td>0.0</td><td>-0.024</td><td>-1.5</td><td>1.07</td><td>0.000008</td><td>0.000006</td><td>0.000003</td><td>-2.558444</td><td>57.362963</td><td>&quot;2023-10-01 05:31:00&quot;</td></tr><tr><td>&quot;25%&quot;</td><td>2283.0</td><td>133920.0</td><td>53.0</td><td>630.0</td><td>93.0</td><td>18.0</td><td>37.5</td><td>0.051</td><td>0.044</td><td>0.022</td><td>0.027</td><td>0.031</td><td>0.031</td><td>0.031</td><td>-17.611</td><td>0.015</td><td>25.244</td><td>-0.074</td><td>25.251</td><td>-0.074</td><td>25.27</td><td>-0.073</td><td>24.478</td><td>-0.074</td><td>3310.0</td><td>781.0</td><td>733.0</td><td>37.8</td><td>0.014</td><td>1.421</td><td>1.47</td><td>38.7</td><td>0.05</td><td>0.044</td><td>0.021</td><td>0.026</td><td>0.029</td><td>0.029</td><td>0.029</td><td>-23.643</td><td>0.024</td><td>760.0</td><td>0.014</td><td>1.358</td><td>1.49</td><td>41.4</td><td>0.037</td><td>0.034</td><td>0.015</td><td>0.019</td><td>0.021</td><td>0.021</td><td>0.021</td><td>-26.653</td><td>0.02</td><td>1586.0</td><td>0.01</td><td>1.025</td><td>1.47</td><td>0.000055</td><td>0.000049</td><td>0.000029</td><td>15.108257</td><td>76.729702</td><td>&quot;2023-10-08 23:59:00&quot;</td></tr><tr><td>&quot;50%&quot;</td><td>2284.0</td><td>270240.0</td><td>132.0</td><td>630.0</td><td>142.0</td><td>32.0</td><td>42.9</td><td>0.088</td><td>0.072</td><td>0.033</td><td>0.044</td><td>0.05</td><td>0.051</td><td>0.051</td><td>-2.704</td><td>0.032</td><td>73.206</td><td>0.0</td><td>73.209</td><td>0.0</td><td>73.223</td><td>0.0</td><td>72.536</td><td>0.0</td><td>10911.0</td><td>781.0</td><td>4223.0</td><td>42.8</td><td>0.026</td><td>2.435</td><td>1.6</td><td>43.3</td><td>0.086</td><td>0.068</td><td>0.029</td><td>0.038</td><td>0.043</td><td>0.043</td><td>0.043</td><td>-0.628</td><td>0.051</td><td>4448.0</td><td>0.027</td><td>2.377</td><td>1.6</td><td>45.5</td><td>0.059</td><td>0.053</td><td>0.022</td><td>0.026</td><td>0.029</td><td>0.029</td><td>0.029</td><td>-2.351</td><td>0.042</td><td>6502.0</td><td>0.017</td><td>1.622</td><td>1.58</td><td>0.000119</td><td>0.000092</td><td>0.000057</td><td>16.132205</td><td>79.520606</td><td>&quot;2023-10-16 18:15:00&quot;</td></tr><tr><td>&quot;75%&quot;</td><td>2285.0</td><td>437220.0</td><td>165.0</td><td>630.0</td><td>227.0</td><td>52.0</td><td>47.2</td><td>0.169</td><td>0.134</td><td>0.057</td><td>0.072</td><td>0.083</td><td>0.084</td><td>0.085</td><td>9.019</td><td>0.065</td><td>128.82</td><td>0.081</td><td>128.821</td><td>0.081</td><td>128.836</td><td>0.08</td><td>128.351</td><td>0.081</td><td>24811.0</td><td>781.0</td><td>14240.0</td><td>47.1</td><td>0.057</td><td>4.719</td><td>1.76</td><td>47.1</td><td>0.153</td><td>0.117</td><td>0.048</td><td>0.062</td><td>0.076</td><td>0.077</td><td>0.076</td><td>9.467</td><td>0.108</td><td>15043.0</td><td>0.049</td><td>4.01</td><td>1.76</td><td>49.3</td><td>0.106</td><td>0.085</td><td>0.031</td><td>0.037</td><td>0.041</td><td>0.042</td><td>0.042</td><td>18.934</td><td>0.083</td><td>18530.0</td><td>0.033</td><td>2.86</td><td>1.7</td><td>0.000303</td><td>0.000237</td><td>0.000111</td><td>19.57806</td><td>82.836522</td><td>&quot;2023-10-24 11:30:00&quot;</td></tr><tr><td>&quot;max&quot;</td><td>2286.0</td><td>604740.0</td><td>242.0</td><td>630.0</td><td>359.0</td><td>90.0</td><td>55.5</td><td>8.366</td><td>0.827</td><td>10.115</td><td>25.711</td><td>56.268</td><td>71.637</td><td>89.736</td><td>118.831</td><td>155.151</td><td>519.132</td><td>902.937</td><td>463.384</td><td>1357.556</td><td>513.899</td><td>1144.207</td><td>454.718</td><td>1320.804</td><td>65534.0</td><td>781.0</td><td>65534.0</td><td>62.1</td><td>1.0</td><td>49.295</td><td>3.75</td><td>54.8</td><td>17.488</td><td>0.766</td><td>1.743</td><td>4.72</td><td>7.782</td><td>8.522</td><td>11.234</td><td>183.999</td><td>128.308</td><td>65534.0</td><td>1.0</td><td>53.661</td><td>3.8</td><td>56.2</td><td>9.896</td><td>0.679</td><td>1.105</td><td>2.627</td><td>4.565</td><td>5.422</td><td>7.398</td><td>174.925</td><td>8.677</td><td>65534.0</td><td>1.0</td><td>54.486</td><td>3.81</td><td>9.92952</td><td>0.252415</td><td>0.161901</td><td>35.170931</td><td>98.994946</td><td>&quot;2023-11-01 05:30:00&quot;</td></tr></tbody></table></div>"
      ],
      "text/plain": [
       "shape: (9, 66)\n",
       "┌───────────┬───────────┬───────────┬───────────┬───┬───────────┬───────────┬───────────┬──────────┐\n",
       "│ statistic ┆ GPS_WN    ┆ GPS_TOW   ┆ SVID      ┆ … ┆ T on      ┆ Latitude  ┆ Longitude ┆ IST_Time │\n",
       "│ ---       ┆ ---       ┆ ---       ┆ ---       ┆   ┆ Sig3,     ┆ ---       ┆ ---       ┆ ---      │\n",
       "│ str       ┆ f64       ┆ f64       ┆ f64       ┆   ┆ phase     ┆ f64       ┆ f64       ┆ str      │\n",
       "│           ┆           ┆           ┆           ┆   ┆ power     ┆           ┆           ┆          │\n",
       "│           ┆           ┆           ┆           ┆   ┆ spectra…  ┆           ┆           ┆          │\n",
       "│           ┆           ┆           ┆           ┆   ┆ ---       ┆           ┆           ┆          │\n",
       "│           ┆           ┆           ┆           ┆   ┆ f64       ┆           ┆           ┆          │\n",
       "╞═══════════╪═══════════╪═══════════╪═══════════╪═══╪═══════════╪═══════════╪═══════════╪══════════╡\n",
       "│ count     ┆ 2.861526e ┆ 2.861526e ┆ 2.861526e ┆ … ┆ 1.850672e ┆ 2.861526e ┆ 2.861526e ┆ 2861526  │\n",
       "│           ┆ 6         ┆ 6         ┆ 6         ┆   ┆ 6         ┆ 6         ┆ 6         ┆          │\n",
       "│ null_coun ┆ 0.0       ┆ 0.0       ┆ 0.0       ┆ … ┆ 1.010854e ┆ 0.0       ┆ 0.0       ┆ 0        │\n",
       "│ t         ┆           ┆           ┆           ┆   ┆ 6         ┆           ┆           ┆          │\n",
       "│ mean      ┆ 2283.7434 ┆ 285852.41 ┆ 115.52705 ┆ … ┆ 0.000173  ┆ 16.398506 ┆ 79.486235 ┆ 2023-10- │\n",
       "│           ┆ 9         ┆ 2119      ┆ 3         ┆   ┆           ┆           ┆           ┆ 16 17:48 │\n",
       "│           ┆           ┆           ┆           ┆   ┆           ┆           ┆           ┆ :35.3827 │\n",
       "│           ┆           ┆           ┆           ┆   ┆           ┆           ┆           ┆ 15       │\n",
       "│ std       ┆ 1.293138  ┆ 175110.13 ┆ 65.998176 ┆ … ┆ 0.001194  ┆ 5.093402  ┆ 5.607641  ┆ null     │\n",
       "│           ┆           ┆ 0981      ┆           ┆   ┆           ┆           ┆           ┆          │\n",
       "│ min       ┆ 2282.0    ┆ 0.0       ┆ 2.0       ┆ … ┆ 0.000003  ┆ -2.558444 ┆ 57.362963 ┆ 2023-10- │\n",
       "│           ┆           ┆           ┆           ┆   ┆           ┆           ┆           ┆ 01       │\n",
       "│           ┆           ┆           ┆           ┆   ┆           ┆           ┆           ┆ 05:31:00 │\n",
       "│ 25%       ┆ 2283.0    ┆ 133920.0  ┆ 53.0      ┆ … ┆ 0.000029  ┆ 15.108257 ┆ 76.729702 ┆ 2023-10- │\n",
       "│           ┆           ┆           ┆           ┆   ┆           ┆           ┆           ┆ 08       │\n",
       "│           ┆           ┆           ┆           ┆   ┆           ┆           ┆           ┆ 23:59:00 │\n",
       "│ 50%       ┆ 2284.0    ┆ 270240.0  ┆ 132.0     ┆ … ┆ 0.000057  ┆ 16.132205 ┆ 79.520606 ┆ 2023-10- │\n",
       "│           ┆           ┆           ┆           ┆   ┆           ┆           ┆           ┆ 16       │\n",
       "│           ┆           ┆           ┆           ┆   ┆           ┆           ┆           ┆ 18:15:00 │\n",
       "│ 75%       ┆ 2285.0    ┆ 437220.0  ┆ 165.0     ┆ … ┆ 0.000111  ┆ 19.57806  ┆ 82.836522 ┆ 2023-10- │\n",
       "│           ┆           ┆           ┆           ┆   ┆           ┆           ┆           ┆ 24       │\n",
       "│           ┆           ┆           ┆           ┆   ┆           ┆           ┆           ┆ 11:30:00 │\n",
       "│ max       ┆ 2286.0    ┆ 604740.0  ┆ 242.0     ┆ … ┆ 0.161901  ┆ 35.170931 ┆ 98.994946 ┆ 2023-11- │\n",
       "│           ┆           ┆           ┆           ┆   ┆           ┆           ┆           ┆ 01       │\n",
       "│           ┆           ┆           ┆           ┆   ┆           ┆           ┆           ┆ 05:30:00 │\n",
       "└───────────┴───────────┴───────────┴───────────┴───┴───────────┴───────────┴───────────┴──────────┘"
      ]
     },
     "execution_count": 6,
     "metadata": {},
     "output_type": "execute_result"
    }
   ],
   "source": [
    "data.describe()"
   ]
  },
  {
   "cell_type": "code",
   "execution_count": null,
   "metadata": {},
   "outputs": [],
   "source": [
    "class PeepholeLSTMRegressionModule(ptl.LightningModule):\n",
    "    def __init__(\n",
    "        self, input_size, hidden_size, num_layers, output_size, learning_rate=0.001\n",
    "    ):\n",
    "        super().__init__()\n",
    "        self.save_hyperparameters()\n",
    "\n",
    "        self.lstm = PeepholeLSTM(input_size, hidden_size, num_layers, batch_first=True)\n",
    "        self.fc = nn.Linear(hidden_size, output_size)\n",
    "\n",
    "    def forward(self, x):\n",
    "        # x shape: (batch_size, sequence_length, input_size)\n",
    "        lstm_out, _ = self.lstm(x)\n",
    "        # We'll use the output of the last time step\n",
    "        out = self.fc(lstm_out[:, -1, :])\n",
    "        return out\n",
    "\n",
    "    def training_step(self, batch, batch_idx):\n",
    "        x, y = batch\n",
    "        y_hat = self(x)\n",
    "        loss = F.mse_loss(y_hat, y)\n",
    "        self.log(\"train_loss\", loss)\n",
    "        return loss\n",
    "\n",
    "    def validation_step(self, batch, batch_idx):\n",
    "        x, y = batch\n",
    "        y_hat = self(x)\n",
    "        loss = F.mse_loss(y_hat, y)\n",
    "        self.log(\"val_loss\", loss)\n",
    "\n",
    "    def test_step(self, batch, batch_idx):\n",
    "        x, y = batch\n",
    "        y_hat = self(x)\n",
    "        loss = F.mse_loss(y_hat, y)\n",
    "        self.log(\"test_loss\", loss)\n",
    "\n",
    "    def configure_optimizers(self):\n",
    "        return optim.Adam(self.parameters(), lr=self.hparams.learning_rate)"
   ]
  },
  {
   "cell_type": "code",
   "execution_count": null,
   "metadata": {},
   "outputs": [],
   "source": [
    "class PLSTM(ptl.LightningModule):\n",
    "    def __init__(self, input_size, hidden_size, num_layers):\n",
    "        self.lstm = PeepholeLSTM()"
   ]
  }
 ],
 "metadata": {
  "kernelspec": {
   "display_name": "isro-project",
   "language": "python",
   "name": "python3"
  },
  "language_info": {
   "codemirror_mode": {
    "name": "ipython",
    "version": 3
   },
   "file_extension": ".py",
   "mimetype": "text/x-python",
   "name": "python",
   "nbconvert_exporter": "python",
   "pygments_lexer": "ipython3",
   "version": "3.12.4"
  }
 },
 "nbformat": 4,
 "nbformat_minor": 2
}
